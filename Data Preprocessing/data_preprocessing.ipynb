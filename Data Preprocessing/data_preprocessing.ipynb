{
  "cells": [
    {
      "cell_type": "code",
      "execution_count": null,
      "metadata": {
        "id": "IacpeSKEbGvh"
      },
      "outputs": [],
      "source": [
        "import numpy as np\n",
        "import pandas as pd\n",
        "from sklearn.preprocessing import StandardScaler,OrdinalEncoder,OneHotEncoder\n",
        "from sklearn.pipeline import make_pipeline\n",
        "from sklearn.compose import make_column_transformer\n",
        "from sklearn.neighbors import KNeighborsClassifier\n",
        "from nltk.corpus import stopwords\n",
        "from category_encoders import TargetEncoder\n",
        "from sklearn.feature_extraction.text import TfidfVectorizer\n",
        "from sklearn.model_selection import train_test_split\n",
        "import gensim\n",
        "from gensim.models import Word2Vec\n",
        "import re"
      ],
      "id": "IacpeSKEbGvh"
    },
    {
      "cell_type": "code",
      "execution_count": null,
      "metadata": {
        "id": "lLkIJt4QbGvj"
      },
      "outputs": [],
      "source": [
        "df_train = pd.read_csv(\"./train.csv\",sep=',', nrows = 200000)\n",
        "df_test = pd.read_csv(\"./test.csv\",sep=',')"
      ],
      "id": "lLkIJt4QbGvj"
    },
    {
      "cell_type": "code",
      "execution_count": null,
      "metadata": {
        "id": "k5ixBmXxbGvk"
      },
      "outputs": [],
      "source": [
        "def split_cat(text):\n",
        "    try: return text.split(\"/\")\n",
        "    except: return (\"No Category\", \"No Category\", \"No Category\")    "
      ],
      "id": "k5ixBmXxbGvk"
    },
    {
      "cell_type": "code",
      "execution_count": null,
      "metadata": {
        "id": "36Ep_w-_bGvk"
      },
      "outputs": [],
      "source": [
        "df_train['main_category'], df_train['subcategory_1'], df_train['subcategory_2'] = zip(*df_train['category_name'].apply(lambda x: split_cat(x)))\n",
        "df_test['main_category'], df_test['subcategory_1'], df_test['subcategory_2'] = zip(*df_test['category_name'].apply(lambda x: split_cat(x)))"
      ],
      "id": "36Ep_w-_bGvk"
    },
    {
      "cell_type": "markdown",
      "metadata": {
        "id": "pf7fl4XGbGvl"
      },
      "source": [
        "## Part1 Feature Construction"
      ],
      "id": "pf7fl4XGbGvl"
    },
    {
      "cell_type": "markdown",
      "metadata": {
        "id": "0BIw7E-YbGvl"
      },
      "source": [
        "### 1.1 Category Feature"
      ],
      "id": "0BIw7E-YbGvl"
    },
    {
      "cell_type": "code",
      "execution_count": null,
      "metadata": {
        "id": "lSXr9OpJbGvm"
      },
      "outputs": [],
      "source": [
        "## updated_brand_name\n",
        "te = TargetEncoder(cols = [\"updated_brand_name\"]).fit(df_train,df_train[\"price\"])\n",
        "df_train['brand_name_te'] = te.transform(df_train)['updated_brand_name']\n",
        "df_test['brand_name_te'] = te.transform(df_test)['updated_brand_name']"
      ],
      "id": "lSXr9OpJbGvm"
    },
    {
      "cell_type": "code",
      "execution_count": null,
      "metadata": {
        "id": "pedL4qQ3bGvm"
      },
      "outputs": [],
      "source": [
        "## shipping\n",
        "te = TargetEncoder(cols = [\"shipping\"]).fit(df_train,df_train[\"price\"])\n",
        "df_train['shipping_te'] = te.transform(df_train)['shipping']\n",
        "df_test['shipping_te'] = te.transform(df_test)['shipping']"
      ],
      "id": "pedL4qQ3bGvm"
    },
    {
      "cell_type": "code",
      "execution_count": null,
      "metadata": {
        "id": "GSYkuu3dbGvn"
      },
      "outputs": [],
      "source": [
        "## item_conditional_id\n",
        "te = TargetEncoder(cols = [\"item_condition_id\"]).fit(df_train,df_train[\"price\"])\n",
        "df_train['item_condition_id_te'] = te.transform(df_train)['item_condition_id']\n",
        "df_test['item_condition_id_te'] = te.transform(df_test)['item_condition_id']"
      ],
      "id": "GSYkuu3dbGvn"
    },
    {
      "cell_type": "code",
      "execution_count": null,
      "metadata": {
        "id": "5JKR7sDObGvn"
      },
      "outputs": [],
      "source": [
        "## update 3-level categories\n",
        "#main category\n",
        "te = TargetEncoder(cols = [\"main_category\"]).fit(df_train,df_train[\"price\"])\n",
        "df_train['main_category_te'] = te.transform(df_train)['main_category']\n",
        "df_test['main_category_te'] = te.transform(df_test)['main_category']\n",
        "#subcategory_1\n",
        "te = TargetEncoder(cols = [\"subcategory_1\"]).fit(df_train,df_train[\"price\"])\n",
        "df_train['subcategory_1_te'] = te.transform(df_train)['subcategory_1']\n",
        "df_test['subcategory_1_te'] = te.transform(df_test)['subcategory_1']\n",
        "#subcategory_2\n",
        "te = TargetEncoder(cols = [\"subcategory_2\"]).fit(df_train,df_train[\"price\"])\n",
        "df_train['subcategory_2_te'] = te.transform(df_train)['subcategory_2']\n",
        "df_test['subcategory_2_te'] = te.transform(df_test)['subcategory_2']"
      ],
      "id": "5JKR7sDObGvn"
    },
    {
      "cell_type": "code",
      "execution_count": null,
      "metadata": {
        "id": "xkxA5ybabGvn"
      },
      "outputs": [],
      "source": [
        "category_features_list = ['brand_name_te','shipping_te', 'item_condition_id_te', \n",
        "                          'main_category_te', 'subcategory_1_te', 'subcategory_2_te', 'price']"
      ],
      "id": "xkxA5ybabGvn"
    },
    {
      "cell_type": "code",
      "execution_count": null,
      "metadata": {
        "id": "pMSy_KVsbGvo"
      },
      "outputs": [],
      "source": [
        "df_train_category = df_train[category_features_list]\n",
        "df_test_category = df_test[category_features_list]"
      ],
      "id": "pMSy_KVsbGvo"
    },
    {
      "cell_type": "code",
      "execution_count": null,
      "metadata": {
        "id": "wsSVxQMibGvo"
      },
      "outputs": [],
      "source": [
        "df_train_category.to_csv('./df_train_category.csv')\n",
        "df_test_category.to_csv('./df_test_category.csv')"
      ],
      "id": "wsSVxQMibGvo"
    },
    {
      "cell_type": "code",
      "execution_count": null,
      "metadata": {
        "id": "z-NNLHXLbGvp",
        "outputId": "9792eb1b-44cd-47d0-bb6d-a3a8b10f0272"
      },
      "outputs": [
        {
          "data": {
            "text/html": [
              "<div>\n",
              "<style scoped>\n",
              "    .dataframe tbody tr th:only-of-type {\n",
              "        vertical-align: middle;\n",
              "    }\n",
              "\n",
              "    .dataframe tbody tr th {\n",
              "        vertical-align: top;\n",
              "    }\n",
              "\n",
              "    .dataframe thead th {\n",
              "        text-align: right;\n",
              "    }\n",
              "</style>\n",
              "<table border=\"1\" class=\"dataframe\">\n",
              "  <thead>\n",
              "    <tr style=\"text-align: right;\">\n",
              "      <th></th>\n",
              "      <th>brand_name_te</th>\n",
              "      <th>shipping_te</th>\n",
              "      <th>item_condition_id_te</th>\n",
              "      <th>main_category_te</th>\n",
              "      <th>subcategory_1_te</th>\n",
              "      <th>subcategory_2_te</th>\n",
              "      <th>price</th>\n",
              "    </tr>\n",
              "  </thead>\n",
              "  <tbody>\n",
              "    <tr>\n",
              "      <th>0</th>\n",
              "      <td>23.219157</td>\n",
              "      <td>30.275798</td>\n",
              "      <td>26.744256</td>\n",
              "      <td>19.702845</td>\n",
              "      <td>18.632705</td>\n",
              "      <td>18.039436</td>\n",
              "      <td>24.0</td>\n",
              "    </tr>\n",
              "    <tr>\n",
              "      <th>1</th>\n",
              "      <td>18.967176</td>\n",
              "      <td>22.541553</td>\n",
              "      <td>26.390406</td>\n",
              "      <td>35.731533</td>\n",
              "      <td>30.307661</td>\n",
              "      <td>13.593852</td>\n",
              "      <td>11.0</td>\n",
              "    </tr>\n",
              "    <tr>\n",
              "      <th>2</th>\n",
              "      <td>16.101190</td>\n",
              "      <td>30.275798</td>\n",
              "      <td>26.744256</td>\n",
              "      <td>29.054339</td>\n",
              "      <td>18.081113</td>\n",
              "      <td>15.475879</td>\n",
              "      <td>9.0</td>\n",
              "    </tr>\n",
              "    <tr>\n",
              "      <th>3</th>\n",
              "      <td>37.570218</td>\n",
              "      <td>30.275798</td>\n",
              "      <td>26.390406</td>\n",
              "      <td>24.486381</td>\n",
              "      <td>28.327181</td>\n",
              "      <td>29.075931</td>\n",
              "      <td>31.0</td>\n",
              "    </tr>\n",
              "    <tr>\n",
              "      <th>4</th>\n",
              "      <td>26.807762</td>\n",
              "      <td>30.275798</td>\n",
              "      <td>27.768790</td>\n",
              "      <td>19.702845</td>\n",
              "      <td>20.709276</td>\n",
              "      <td>27.989540</td>\n",
              "      <td>18.0</td>\n",
              "    </tr>\n",
              "    <tr>\n",
              "      <th>...</th>\n",
              "      <td>...</td>\n",
              "      <td>...</td>\n",
              "      <td>...</td>\n",
              "      <td>...</td>\n",
              "      <td>...</td>\n",
              "      <td>...</td>\n",
              "      <td>...</td>\n",
              "    </tr>\n",
              "    <tr>\n",
              "      <th>199995</th>\n",
              "      <td>20.844595</td>\n",
              "      <td>22.541553</td>\n",
              "      <td>27.768790</td>\n",
              "      <td>29.054339</td>\n",
              "      <td>33.909643</td>\n",
              "      <td>35.294710</td>\n",
              "      <td>15.0</td>\n",
              "    </tr>\n",
              "    <tr>\n",
              "      <th>199996</th>\n",
              "      <td>18.967176</td>\n",
              "      <td>30.275798</td>\n",
              "      <td>26.390406</td>\n",
              "      <td>25.077433</td>\n",
              "      <td>29.838863</td>\n",
              "      <td>21.262522</td>\n",
              "      <td>29.0</td>\n",
              "    </tr>\n",
              "    <tr>\n",
              "      <th>199997</th>\n",
              "      <td>18.909014</td>\n",
              "      <td>30.275798</td>\n",
              "      <td>26.744256</td>\n",
              "      <td>29.054339</td>\n",
              "      <td>28.625748</td>\n",
              "      <td>34.641769</td>\n",
              "      <td>16.0</td>\n",
              "    </tr>\n",
              "    <tr>\n",
              "      <th>199998</th>\n",
              "      <td>18.967176</td>\n",
              "      <td>22.541553</td>\n",
              "      <td>27.768790</td>\n",
              "      <td>35.731533</td>\n",
              "      <td>30.307661</td>\n",
              "      <td>13.593852</td>\n",
              "      <td>25.0</td>\n",
              "    </tr>\n",
              "    <tr>\n",
              "      <th>199999</th>\n",
              "      <td>37.002136</td>\n",
              "      <td>30.275798</td>\n",
              "      <td>26.390406</td>\n",
              "      <td>29.054339</td>\n",
              "      <td>28.625748</td>\n",
              "      <td>34.641769</td>\n",
              "      <td>22.0</td>\n",
              "    </tr>\n",
              "  </tbody>\n",
              "</table>\n",
              "<p>200000 rows × 7 columns</p>\n",
              "</div>"
            ],
            "text/plain": [
              "        brand_name_te  shipping_te  item_condition_id_te  main_category_te  \\\n",
              "0           23.219157    30.275798             26.744256         19.702845   \n",
              "1           18.967176    22.541553             26.390406         35.731533   \n",
              "2           16.101190    30.275798             26.744256         29.054339   \n",
              "3           37.570218    30.275798             26.390406         24.486381   \n",
              "4           26.807762    30.275798             27.768790         19.702845   \n",
              "...               ...          ...                   ...               ...   \n",
              "199995      20.844595    22.541553             27.768790         29.054339   \n",
              "199996      18.967176    30.275798             26.390406         25.077433   \n",
              "199997      18.909014    30.275798             26.744256         29.054339   \n",
              "199998      18.967176    22.541553             27.768790         35.731533   \n",
              "199999      37.002136    30.275798             26.390406         29.054339   \n",
              "\n",
              "        subcategory_1_te  subcategory_2_te  price  \n",
              "0              18.632705         18.039436   24.0  \n",
              "1              30.307661         13.593852   11.0  \n",
              "2              18.081113         15.475879    9.0  \n",
              "3              28.327181         29.075931   31.0  \n",
              "4              20.709276         27.989540   18.0  \n",
              "...                  ...               ...    ...  \n",
              "199995         33.909643         35.294710   15.0  \n",
              "199996         29.838863         21.262522   29.0  \n",
              "199997         28.625748         34.641769   16.0  \n",
              "199998         30.307661         13.593852   25.0  \n",
              "199999         28.625748         34.641769   22.0  \n",
              "\n",
              "[200000 rows x 7 columns]"
            ]
          },
          "execution_count": 51,
          "metadata": {},
          "output_type": "execute_result"
        }
      ],
      "source": [
        "df_train_category"
      ],
      "id": "z-NNLHXLbGvp"
    },
    {
      "cell_type": "markdown",
      "metadata": {
        "id": "jzOFNzJqbGvp"
      },
      "source": [
        "### 1.2 Text Feature"
      ],
      "id": "jzOFNzJqbGvp"
    },
    {
      "cell_type": "markdown",
      "metadata": {
        "id": "nknJ1IWvbGvq"
      },
      "source": [
        "#### 1.2.1 TF-IDF"
      ],
      "id": "nknJ1IWvbGvq"
    },
    {
      "cell_type": "code",
      "execution_count": null,
      "metadata": {
        "id": "TWvvBd_EbGvq"
      },
      "outputs": [],
      "source": [
        "vector = TfidfVectorizer()\n",
        "train_tfidf = vector.fit_transform(df_train['item_description'].apply(lambda x: np.str_(x)))\n",
        "test_tfidf = vector.transform(df_test['item_description'].apply(lambda x: np.str_(x)))"
      ],
      "id": "TWvvBd_EbGvq"
    },
    {
      "cell_type": "code",
      "execution_count": null,
      "metadata": {
        "id": "XxFOUNSpbGvr",
        "outputId": "edbd95ae-7de0-42ce-94cd-bfa48418e1d4"
      },
      "outputs": [
        {
          "data": {
            "text/plain": [
              "0         These are new however the tip is cut off the l...\n",
              "1         Black Waterproof Waist Punch Cover For Apple i...\n",
              "2         American eagle black mesh and lace blouse. Has...\n",
              "3                                        No description yet\n",
              "4         Used only a few times. Great for creating beac...\n",
              "                                ...                        \n",
              "199995    New black rain coat by Columbia. Doesn't have ...\n",
              "199996    Brand new condition BUT no ice packs or meal c...\n",
              "199997    Size: XL Black women's UA Storm pants NWOT con...\n",
              "199998    Light up case, iphone 7. Great for pictures or...\n",
              "199999                                   No description yet\n",
              "Name: item_description, Length: 200000, dtype: object"
            ]
          },
          "execution_count": 53,
          "metadata": {},
          "output_type": "execute_result"
        }
      ],
      "source": [
        "df_train['item_description']"
      ],
      "id": "XxFOUNSpbGvr"
    },
    {
      "cell_type": "code",
      "execution_count": null,
      "metadata": {
        "id": "docujMRWbGvr",
        "outputId": "52c5a073-fbe0-4708-cdac-ff55eb71521c"
      },
      "outputs": [
        {
          "data": {
            "text/plain": [
              "(148254, 60523)"
            ]
          },
          "execution_count": 54,
          "metadata": {},
          "output_type": "execute_result"
        }
      ],
      "source": [
        "test_tfidf.shape"
      ],
      "id": "docujMRWbGvr"
    },
    {
      "cell_type": "code",
      "execution_count": null,
      "metadata": {
        "id": "cuOEI3yubGvr"
      },
      "outputs": [],
      "source": [
        "#remove stopwords\n",
        "stop_words = set(stopwords.words('english'))\n",
        "tfidf = TfidfVectorizer(stop_words=stop_words,max_features=400)\n",
        "train_tfidf = tfidf.fit_transform(df_train['item_description'].apply(lambda x: np.str_(x)))\n",
        "test_tfidf = tfidf.transform(df_test['item_description'].apply(lambda x: np.str_(x)))"
      ],
      "id": "cuOEI3yubGvr"
    },
    {
      "cell_type": "code",
      "execution_count": null,
      "metadata": {
        "id": "I_QkbN7rbGvs",
        "outputId": "ade38f36-8ead-40fd-8158-b572dd2fc36e"
      },
      "outputs": [
        {
          "data": {
            "text/plain": [
              "400"
            ]
          },
          "execution_count": 56,
          "metadata": {},
          "output_type": "execute_result"
        }
      ],
      "source": [
        "len(tfidf.vocabulary_)"
      ],
      "id": "I_QkbN7rbGvs"
    },
    {
      "cell_type": "code",
      "execution_count": null,
      "metadata": {
        "id": "oLBeIiH_bGvs",
        "outputId": "6130c874-cd84-4c9a-8787-160bef08dcc2"
      },
      "outputs": [
        {
          "data": {
            "text/plain": [
              "(200000, 400)"
            ]
          },
          "execution_count": 57,
          "metadata": {},
          "output_type": "execute_result"
        }
      ],
      "source": [
        "train_tfidf.shape"
      ],
      "id": "oLBeIiH_bGvs"
    },
    {
      "cell_type": "code",
      "execution_count": null,
      "metadata": {
        "id": "IVnlT5qObGvs"
      },
      "outputs": [],
      "source": [
        "# # from sklearn.feature_selection import SelectKBest,f_regression\n",
        "# select_model = SelectKBest(f_regression, k=1000)\n",
        "# train_tfidf_1000 = select_model.fit_transform(train_tfidf, df_train['price'])\n",
        "# test_tfidf_1000 = select_model.transform(test_tfidf)"
      ],
      "id": "IVnlT5qObGvs"
    },
    {
      "cell_type": "code",
      "execution_count": null,
      "metadata": {
        "id": "dr3IenSAbGvt"
      },
      "outputs": [],
      "source": [
        "column_name = []\n",
        "for i in range(400):\n",
        "    column_name.append(\"tfidf_\"+ str(i))"
      ],
      "id": "dr3IenSAbGvt"
    },
    {
      "cell_type": "code",
      "execution_count": null,
      "metadata": {
        "id": "Es9eUhTXbGvt"
      },
      "outputs": [],
      "source": [
        "df_tfidf_train = pd.DataFrame(train_tfidf.todense(), columns = column_name)\n",
        "df_tfidf_test = pd.DataFrame(test_tfidf.todense(),columns = column_name)"
      ],
      "id": "Es9eUhTXbGvt"
    },
    {
      "cell_type": "code",
      "execution_count": null,
      "metadata": {
        "id": "9FLUJkvHbGvt"
      },
      "outputs": [],
      "source": [
        "df_tfidf_train.to_csv('./df_train_tfidf.csv')\n",
        "df_tfidf_test.to_csv('./df_test_tfidf.csv')"
      ],
      "id": "9FLUJkvHbGvt"
    },
    {
      "cell_type": "code",
      "execution_count": null,
      "metadata": {
        "id": "VlDkJKpObGvu",
        "outputId": "af354fd7-6c60-48eb-8158-70cc09f5d638"
      },
      "outputs": [
        {
          "data": {
            "text/html": [
              "<div>\n",
              "<style scoped>\n",
              "    .dataframe tbody tr th:only-of-type {\n",
              "        vertical-align: middle;\n",
              "    }\n",
              "\n",
              "    .dataframe tbody tr th {\n",
              "        vertical-align: top;\n",
              "    }\n",
              "\n",
              "    .dataframe thead th {\n",
              "        text-align: right;\n",
              "    }\n",
              "</style>\n",
              "<table border=\"1\" class=\"dataframe\">\n",
              "  <thead>\n",
              "    <tr style=\"text-align: right;\">\n",
              "      <th></th>\n",
              "      <th>tfidf_0</th>\n",
              "      <th>tfidf_1</th>\n",
              "      <th>tfidf_2</th>\n",
              "      <th>tfidf_3</th>\n",
              "      <th>tfidf_4</th>\n",
              "      <th>tfidf_5</th>\n",
              "      <th>tfidf_6</th>\n",
              "      <th>tfidf_7</th>\n",
              "      <th>tfidf_8</th>\n",
              "      <th>tfidf_9</th>\n",
              "      <th>...</th>\n",
              "      <th>tfidf_390</th>\n",
              "      <th>tfidf_391</th>\n",
              "      <th>tfidf_392</th>\n",
              "      <th>tfidf_393</th>\n",
              "      <th>tfidf_394</th>\n",
              "      <th>tfidf_395</th>\n",
              "      <th>tfidf_396</th>\n",
              "      <th>tfidf_397</th>\n",
              "      <th>tfidf_398</th>\n",
              "      <th>tfidf_399</th>\n",
              "    </tr>\n",
              "  </thead>\n",
              "  <tbody>\n",
              "    <tr>\n",
              "      <th>0</th>\n",
              "      <td>0.0</td>\n",
              "      <td>0.0</td>\n",
              "      <td>0.0</td>\n",
              "      <td>0.0</td>\n",
              "      <td>0.0</td>\n",
              "      <td>0.0</td>\n",
              "      <td>0.0</td>\n",
              "      <td>0.0</td>\n",
              "      <td>0.0</td>\n",
              "      <td>0.0</td>\n",
              "      <td>...</td>\n",
              "      <td>0.0</td>\n",
              "      <td>0.0</td>\n",
              "      <td>0.0</td>\n",
              "      <td>0.0</td>\n",
              "      <td>0.000000</td>\n",
              "      <td>0.0</td>\n",
              "      <td>0.0</td>\n",
              "      <td>0.000000</td>\n",
              "      <td>0.0</td>\n",
              "      <td>0.0</td>\n",
              "    </tr>\n",
              "    <tr>\n",
              "      <th>1</th>\n",
              "      <td>0.0</td>\n",
              "      <td>0.0</td>\n",
              "      <td>0.0</td>\n",
              "      <td>0.0</td>\n",
              "      <td>0.0</td>\n",
              "      <td>0.0</td>\n",
              "      <td>0.0</td>\n",
              "      <td>0.0</td>\n",
              "      <td>0.0</td>\n",
              "      <td>0.0</td>\n",
              "      <td>...</td>\n",
              "      <td>0.0</td>\n",
              "      <td>0.0</td>\n",
              "      <td>0.0</td>\n",
              "      <td>0.0</td>\n",
              "      <td>0.000000</td>\n",
              "      <td>0.0</td>\n",
              "      <td>0.0</td>\n",
              "      <td>0.000000</td>\n",
              "      <td>0.0</td>\n",
              "      <td>0.0</td>\n",
              "    </tr>\n",
              "    <tr>\n",
              "      <th>2</th>\n",
              "      <td>0.0</td>\n",
              "      <td>0.0</td>\n",
              "      <td>0.0</td>\n",
              "      <td>0.0</td>\n",
              "      <td>0.0</td>\n",
              "      <td>0.0</td>\n",
              "      <td>0.0</td>\n",
              "      <td>0.0</td>\n",
              "      <td>0.0</td>\n",
              "      <td>0.0</td>\n",
              "      <td>...</td>\n",
              "      <td>0.0</td>\n",
              "      <td>0.0</td>\n",
              "      <td>0.0</td>\n",
              "      <td>0.0</td>\n",
              "      <td>0.000000</td>\n",
              "      <td>0.0</td>\n",
              "      <td>0.0</td>\n",
              "      <td>0.000000</td>\n",
              "      <td>0.0</td>\n",
              "      <td>0.0</td>\n",
              "    </tr>\n",
              "    <tr>\n",
              "      <th>3</th>\n",
              "      <td>0.0</td>\n",
              "      <td>0.0</td>\n",
              "      <td>0.0</td>\n",
              "      <td>0.0</td>\n",
              "      <td>0.0</td>\n",
              "      <td>0.0</td>\n",
              "      <td>0.0</td>\n",
              "      <td>0.0</td>\n",
              "      <td>0.0</td>\n",
              "      <td>0.0</td>\n",
              "      <td>...</td>\n",
              "      <td>0.0</td>\n",
              "      <td>0.0</td>\n",
              "      <td>0.0</td>\n",
              "      <td>0.0</td>\n",
              "      <td>0.000000</td>\n",
              "      <td>0.0</td>\n",
              "      <td>0.0</td>\n",
              "      <td>0.713724</td>\n",
              "      <td>0.0</td>\n",
              "      <td>0.0</td>\n",
              "    </tr>\n",
              "    <tr>\n",
              "      <th>4</th>\n",
              "      <td>0.0</td>\n",
              "      <td>0.0</td>\n",
              "      <td>0.0</td>\n",
              "      <td>0.0</td>\n",
              "      <td>0.0</td>\n",
              "      <td>0.0</td>\n",
              "      <td>0.0</td>\n",
              "      <td>0.0</td>\n",
              "      <td>0.0</td>\n",
              "      <td>0.0</td>\n",
              "      <td>...</td>\n",
              "      <td>0.0</td>\n",
              "      <td>0.0</td>\n",
              "      <td>0.0</td>\n",
              "      <td>0.0</td>\n",
              "      <td>0.000000</td>\n",
              "      <td>0.0</td>\n",
              "      <td>0.0</td>\n",
              "      <td>0.000000</td>\n",
              "      <td>0.0</td>\n",
              "      <td>0.0</td>\n",
              "    </tr>\n",
              "    <tr>\n",
              "      <th>...</th>\n",
              "      <td>...</td>\n",
              "      <td>...</td>\n",
              "      <td>...</td>\n",
              "      <td>...</td>\n",
              "      <td>...</td>\n",
              "      <td>...</td>\n",
              "      <td>...</td>\n",
              "      <td>...</td>\n",
              "      <td>...</td>\n",
              "      <td>...</td>\n",
              "      <td>...</td>\n",
              "      <td>...</td>\n",
              "      <td>...</td>\n",
              "      <td>...</td>\n",
              "      <td>...</td>\n",
              "      <td>...</td>\n",
              "      <td>...</td>\n",
              "      <td>...</td>\n",
              "      <td>...</td>\n",
              "      <td>...</td>\n",
              "      <td>...</td>\n",
              "    </tr>\n",
              "    <tr>\n",
              "      <th>199995</th>\n",
              "      <td>0.0</td>\n",
              "      <td>0.0</td>\n",
              "      <td>0.0</td>\n",
              "      <td>0.0</td>\n",
              "      <td>0.0</td>\n",
              "      <td>0.0</td>\n",
              "      <td>0.0</td>\n",
              "      <td>0.0</td>\n",
              "      <td>0.0</td>\n",
              "      <td>0.0</td>\n",
              "      <td>...</td>\n",
              "      <td>0.0</td>\n",
              "      <td>0.0</td>\n",
              "      <td>0.0</td>\n",
              "      <td>0.0</td>\n",
              "      <td>0.000000</td>\n",
              "      <td>0.0</td>\n",
              "      <td>0.0</td>\n",
              "      <td>0.000000</td>\n",
              "      <td>0.0</td>\n",
              "      <td>0.0</td>\n",
              "    </tr>\n",
              "    <tr>\n",
              "      <th>199996</th>\n",
              "      <td>0.0</td>\n",
              "      <td>0.0</td>\n",
              "      <td>0.0</td>\n",
              "      <td>0.0</td>\n",
              "      <td>0.0</td>\n",
              "      <td>0.0</td>\n",
              "      <td>0.0</td>\n",
              "      <td>0.0</td>\n",
              "      <td>0.0</td>\n",
              "      <td>0.0</td>\n",
              "      <td>...</td>\n",
              "      <td>0.0</td>\n",
              "      <td>0.0</td>\n",
              "      <td>0.0</td>\n",
              "      <td>0.0</td>\n",
              "      <td>0.000000</td>\n",
              "      <td>0.0</td>\n",
              "      <td>0.0</td>\n",
              "      <td>0.000000</td>\n",
              "      <td>0.0</td>\n",
              "      <td>0.0</td>\n",
              "    </tr>\n",
              "    <tr>\n",
              "      <th>199997</th>\n",
              "      <td>0.0</td>\n",
              "      <td>0.0</td>\n",
              "      <td>0.0</td>\n",
              "      <td>0.0</td>\n",
              "      <td>0.0</td>\n",
              "      <td>0.0</td>\n",
              "      <td>0.0</td>\n",
              "      <td>0.0</td>\n",
              "      <td>0.0</td>\n",
              "      <td>0.0</td>\n",
              "      <td>...</td>\n",
              "      <td>0.0</td>\n",
              "      <td>0.0</td>\n",
              "      <td>0.0</td>\n",
              "      <td>0.0</td>\n",
              "      <td>0.385913</td>\n",
              "      <td>0.0</td>\n",
              "      <td>0.0</td>\n",
              "      <td>0.000000</td>\n",
              "      <td>0.0</td>\n",
              "      <td>0.0</td>\n",
              "    </tr>\n",
              "    <tr>\n",
              "      <th>199998</th>\n",
              "      <td>0.0</td>\n",
              "      <td>0.0</td>\n",
              "      <td>0.0</td>\n",
              "      <td>0.0</td>\n",
              "      <td>0.0</td>\n",
              "      <td>0.0</td>\n",
              "      <td>0.0</td>\n",
              "      <td>0.0</td>\n",
              "      <td>0.0</td>\n",
              "      <td>0.0</td>\n",
              "      <td>...</td>\n",
              "      <td>0.0</td>\n",
              "      <td>0.0</td>\n",
              "      <td>0.0</td>\n",
              "      <td>0.0</td>\n",
              "      <td>0.000000</td>\n",
              "      <td>0.0</td>\n",
              "      <td>0.0</td>\n",
              "      <td>0.000000</td>\n",
              "      <td>0.0</td>\n",
              "      <td>0.0</td>\n",
              "    </tr>\n",
              "    <tr>\n",
              "      <th>199999</th>\n",
              "      <td>0.0</td>\n",
              "      <td>0.0</td>\n",
              "      <td>0.0</td>\n",
              "      <td>0.0</td>\n",
              "      <td>0.0</td>\n",
              "      <td>0.0</td>\n",
              "      <td>0.0</td>\n",
              "      <td>0.0</td>\n",
              "      <td>0.0</td>\n",
              "      <td>0.0</td>\n",
              "      <td>...</td>\n",
              "      <td>0.0</td>\n",
              "      <td>0.0</td>\n",
              "      <td>0.0</td>\n",
              "      <td>0.0</td>\n",
              "      <td>0.000000</td>\n",
              "      <td>0.0</td>\n",
              "      <td>0.0</td>\n",
              "      <td>0.713724</td>\n",
              "      <td>0.0</td>\n",
              "      <td>0.0</td>\n",
              "    </tr>\n",
              "  </tbody>\n",
              "</table>\n",
              "<p>200000 rows × 400 columns</p>\n",
              "</div>"
            ],
            "text/plain": [
              "        tfidf_0  tfidf_1  tfidf_2  tfidf_3  tfidf_4  tfidf_5  tfidf_6  \\\n",
              "0           0.0      0.0      0.0      0.0      0.0      0.0      0.0   \n",
              "1           0.0      0.0      0.0      0.0      0.0      0.0      0.0   \n",
              "2           0.0      0.0      0.0      0.0      0.0      0.0      0.0   \n",
              "3           0.0      0.0      0.0      0.0      0.0      0.0      0.0   \n",
              "4           0.0      0.0      0.0      0.0      0.0      0.0      0.0   \n",
              "...         ...      ...      ...      ...      ...      ...      ...   \n",
              "199995      0.0      0.0      0.0      0.0      0.0      0.0      0.0   \n",
              "199996      0.0      0.0      0.0      0.0      0.0      0.0      0.0   \n",
              "199997      0.0      0.0      0.0      0.0      0.0      0.0      0.0   \n",
              "199998      0.0      0.0      0.0      0.0      0.0      0.0      0.0   \n",
              "199999      0.0      0.0      0.0      0.0      0.0      0.0      0.0   \n",
              "\n",
              "        tfidf_7  tfidf_8  tfidf_9  ...  tfidf_390  tfidf_391  tfidf_392  \\\n",
              "0           0.0      0.0      0.0  ...        0.0        0.0        0.0   \n",
              "1           0.0      0.0      0.0  ...        0.0        0.0        0.0   \n",
              "2           0.0      0.0      0.0  ...        0.0        0.0        0.0   \n",
              "3           0.0      0.0      0.0  ...        0.0        0.0        0.0   \n",
              "4           0.0      0.0      0.0  ...        0.0        0.0        0.0   \n",
              "...         ...      ...      ...  ...        ...        ...        ...   \n",
              "199995      0.0      0.0      0.0  ...        0.0        0.0        0.0   \n",
              "199996      0.0      0.0      0.0  ...        0.0        0.0        0.0   \n",
              "199997      0.0      0.0      0.0  ...        0.0        0.0        0.0   \n",
              "199998      0.0      0.0      0.0  ...        0.0        0.0        0.0   \n",
              "199999      0.0      0.0      0.0  ...        0.0        0.0        0.0   \n",
              "\n",
              "        tfidf_393  tfidf_394  tfidf_395  tfidf_396  tfidf_397  tfidf_398  \\\n",
              "0             0.0   0.000000        0.0        0.0   0.000000        0.0   \n",
              "1             0.0   0.000000        0.0        0.0   0.000000        0.0   \n",
              "2             0.0   0.000000        0.0        0.0   0.000000        0.0   \n",
              "3             0.0   0.000000        0.0        0.0   0.713724        0.0   \n",
              "4             0.0   0.000000        0.0        0.0   0.000000        0.0   \n",
              "...           ...        ...        ...        ...        ...        ...   \n",
              "199995        0.0   0.000000        0.0        0.0   0.000000        0.0   \n",
              "199996        0.0   0.000000        0.0        0.0   0.000000        0.0   \n",
              "199997        0.0   0.385913        0.0        0.0   0.000000        0.0   \n",
              "199998        0.0   0.000000        0.0        0.0   0.000000        0.0   \n",
              "199999        0.0   0.000000        0.0        0.0   0.713724        0.0   \n",
              "\n",
              "        tfidf_399  \n",
              "0             0.0  \n",
              "1             0.0  \n",
              "2             0.0  \n",
              "3             0.0  \n",
              "4             0.0  \n",
              "...           ...  \n",
              "199995        0.0  \n",
              "199996        0.0  \n",
              "199997        0.0  \n",
              "199998        0.0  \n",
              "199999        0.0  \n",
              "\n",
              "[200000 rows x 400 columns]"
            ]
          },
          "execution_count": 60,
          "metadata": {},
          "output_type": "execute_result"
        }
      ],
      "source": [
        "df_tfidf_test"
      ],
      "id": "VlDkJKpObGvu"
    },
    {
      "cell_type": "markdown",
      "metadata": {
        "id": "cE5jcQczbGvv"
      },
      "source": [
        "#### 1.2.2 Word2Vec"
      ],
      "id": "cE5jcQczbGvv"
    },
    {
      "cell_type": "code",
      "execution_count": null,
      "metadata": {
        "id": "poxEE_H1bGvv"
      },
      "outputs": [],
      "source": [
        "from nltk.corpus import stopwords\n",
        "stopwords_set = set(stopwords.words('english'))\n",
        "\n",
        "sentences = []\n",
        "for single_des in df_train[\"item_description\"].values:\n",
        "    for s in re.split(\"\\.\", str(single_des)):\n",
        "        if len(s) > 2:\n",
        "            sentence = []\n",
        "            for word in s.split(\" \"):\n",
        "                if len(word)>1 and word not in stopwords_set:\n",
        "                    sentence.append(word.strip().lower())\n",
        "            sentences.append(sentence)\n"
      ],
      "id": "poxEE_H1bGvv"
    },
    {
      "cell_type": "code",
      "execution_count": null,
      "metadata": {
        "id": "pc5Xi1IfbGvv"
      },
      "outputs": [],
      "source": [
        "VECTOR_SIZE = 150\n",
        "model = Word2Vec(sentences, vector_size=VECTOR_SIZE, window=5, min_count=5, workers=4)"
      ],
      "id": "pc5Xi1IfbGvv"
    },
    {
      "cell_type": "code",
      "execution_count": null,
      "metadata": {
        "id": "FXVaQVhgbGvv",
        "outputId": "8c563826-db83-4310-bcff-9b0f3ba9e7f1"
      },
      "outputs": [
        {
          "data": {
            "text/plain": [
              "[('wifi', 0.8667345643043518),\n",
              " ('phone,', 0.8560323119163513),\n",
              " ('device,', 0.8514837622642517),\n",
              " ('connect', 0.8485516905784607),\n",
              " ('camera,', 0.8468049764633179),\n",
              " ('wi-fi', 0.8423641324043274),\n",
              " ('connects', 0.8376858234405518),\n",
              " ('port', 0.8368887901306152),\n",
              " ('webcam', 0.8363166451454163),\n",
              " ('battery,', 0.8337953090667725)]"
            ]
          },
          "execution_count": 16,
          "metadata": {},
          "output_type": "execute_result"
        }
      ],
      "source": [
        "model.wv.most_similar('computer', topn=10)"
      ],
      "id": "FXVaQVhgbGvv"
    },
    {
      "cell_type": "code",
      "execution_count": null,
      "metadata": {
        "id": "8yfWAtWlbGvw"
      },
      "outputs": [],
      "source": [
        "words_vob = list(model.wv.index_to_key)\n",
        "w2v_vector_train = np.zeros((df_train.shape[0], VECTOR_SIZE))\n",
        "\n",
        "for i in range(df_train.shape[0]):\n",
        "    word_list = str(df_train['item_description'][i]).split(\" \")\n",
        "    single_vector = np.zeros(VECTOR_SIZE)\n",
        "    cnt = 0\n",
        "    for word in word_list:\n",
        "        word = word.strip().lower()\n",
        "        if word in words_vob:\n",
        "            single_vector += model.wv[word]\n",
        "            cnt += 1\n",
        "    if cnt > 0:\n",
        "        w2v_vector_train[i] = single_vector / cnt "
      ],
      "id": "8yfWAtWlbGvw"
    },
    {
      "cell_type": "code",
      "execution_count": null,
      "metadata": {
        "id": "vnteLzDnbGvw"
      },
      "outputs": [],
      "source": [
        "w2v_vector_test = np.zeros((df_test.shape[0], VECTOR_SIZE))\n",
        "\n",
        "for i in range(df_test.shape[0]):\n",
        "    word_list = str(df_train['item_description'][i]).split(\" \")\n",
        "    single_vector = np.zeros(VECTOR_SIZE)\n",
        "    cnt = 0\n",
        "    for word in word_list:\n",
        "        word = word.strip().lower()\n",
        "        if word in words_vob:\n",
        "            single_vector += model.wv[word]\n",
        "            cnt += 1\n",
        "    if cnt > 0:\n",
        "        w2v_vector_test[i] = single_vector / cnt    "
      ],
      "id": "vnteLzDnbGvw"
    },
    {
      "cell_type": "code",
      "execution_count": null,
      "metadata": {
        "id": "mS1j0BlgbGvx"
      },
      "outputs": [],
      "source": [
        "column_name = []\n",
        "for i in range(VECTOR_SIZE):\n",
        "    column_name.append(\"w2v_\"+ str(i))"
      ],
      "id": "mS1j0BlgbGvx"
    },
    {
      "cell_type": "code",
      "execution_count": null,
      "metadata": {
        "id": "8nqKCPCwbGvz"
      },
      "outputs": [],
      "source": [
        "df_w2v_train = pd.DataFrame(w2v_vector_train, columns = column_name)\n",
        "df_w2v_test = pd.DataFrame(w2v_vector_test, columns = column_name)"
      ],
      "id": "8nqKCPCwbGvz"
    },
    {
      "cell_type": "code",
      "execution_count": null,
      "metadata": {
        "id": "J5RWg5V-bGv2"
      },
      "outputs": [],
      "source": [
        "df_w2v_train.to_csv('./df_train_w2v.csv')\n",
        "df_w2v_test.to_csv('./df_test_w2v.csv')"
      ],
      "id": "J5RWg5V-bGv2"
    },
    {
      "cell_type": "markdown",
      "metadata": {
        "id": "eRWurrxzbGv4"
      },
      "source": [
        "#### 1.2.3 Bert"
      ],
      "id": "eRWurrxzbGv4"
    }
  ],
  "metadata": {
    "kernelspec": {
      "display_name": "Python 3",
      "language": "python",
      "name": "python3"
    },
    "language_info": {
      "codemirror_mode": {
        "name": "ipython",
        "version": 3
      },
      "file_extension": ".py",
      "mimetype": "text/x-python",
      "name": "python",
      "nbconvert_exporter": "python",
      "pygments_lexer": "ipython3",
      "version": "3.7.6"
    },
    "colab": {
      "name": "data_preprocessing.ipynb",
      "provenance": [],
      "collapsed_sections": [
        "eRWurrxzbGv4"
      ]
    }
  },
  "nbformat": 4,
  "nbformat_minor": 5
}