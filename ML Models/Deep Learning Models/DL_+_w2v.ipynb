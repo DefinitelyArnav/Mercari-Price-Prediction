{
  "cells": [
    {
      "cell_type": "code",
      "execution_count": 1,
      "metadata": {
        "colab": {
          "base_uri": "https://localhost:8080/"
        },
        "id": "yOQWPTOBeRF2",
        "outputId": "3fe3c75e-0a55-4ab0-d06e-7e1dba64f448"
      },
      "outputs": [
        {
          "output_type": "stream",
          "name": "stdout",
          "text": [
            "Mounted at /content/gdrive\n"
          ]
        }
      ],
      "source": [
        "from google.colab import drive\n",
        "drive.mount(\"/content/gdrive\")"
      ]
    },
    {
      "cell_type": "code",
      "execution_count": 2,
      "metadata": {
        "id": "L6YNQ4I2g-TI"
      },
      "outputs": [],
      "source": [
        "import sys\n",
        "sys.path.append('/content/gdrive/MyDrive/aml_fp/')"
      ]
    },
    {
      "cell_type": "code",
      "execution_count": 3,
      "metadata": {
        "id": "jlSXwWdahbj4"
      },
      "outputs": [],
      "source": [
        "import json\n",
        "import csv\n",
        "import pandas as pd\n",
        "import sklearn\n",
        "import numpy as np\n",
        "import tensorflow as tf\n",
        "import pandas\n",
        "import keras\n",
        "from keras.models import Sequential\n",
        "from keras.layers import Dense\n",
        "from keras.wrappers.scikit_learn import KerasRegressor\n",
        "from keras.losses import mean_squared_error\n",
        "from sklearn.model_selection import cross_val_score\n",
        "from sklearn.model_selection import KFold\n",
        "from sklearn.preprocessing import StandardScaler\n",
        "from sklearn.pipeline import Pipeline\n",
        "from tensorflow.keras.callbacks import EarlyStopping\n",
        "\n",
        "import tensorflow.keras.backend as K\n"
      ]
    },
    {
      "cell_type": "code",
      "execution_count": 4,
      "metadata": {
        "id": "Inos5Es6nptp"
      },
      "outputs": [],
      "source": [
        "\n",
        "# Loading tfidf + categorical features\n",
        "X_train=pd.read_csv(\"/content/gdrive/MyDrive/aml_fp/X_train_150_w2v\")\n",
        "y_train=pd.read_csv(\"/content/gdrive/MyDrive/aml_fp/y_train_150_w2v\")\n",
        "X_test=pd.read_csv(\"/content/gdrive/MyDrive/aml_fp/X_test_150_w2v\")\n",
        "y_test=pd.read_csv(\"/content/gdrive/MyDrive/aml_fp/y_test_150_w2v\")\n",
        "\n",
        "# Normal price \n",
        "y_train=y_train.iloc[:,1:]\n",
        "y_test=y_test.iloc[:,1:]\n",
        "\n",
        "# Log scaled price \n",
        "y_train_log=np.log(y_train+1)\n",
        "y_test_log=np.log(y_test+1)\n",
        "\n",
        "\n",
        "\n"
      ]
    },
    {
      "cell_type": "code",
      "execution_count": 5,
      "metadata": {
        "colab": {
          "base_uri": "https://localhost:8080/"
        },
        "id": "8ojiNTybkYgG",
        "outputId": "982d55c2-ba72-4d28-c35a-b6086dc378b9"
      },
      "outputs": [
        {
          "output_type": "stream",
          "name": "stderr",
          "text": [
            "/usr/local/lib/python3.7/dist-packages/keras/optimizer_v2/adam.py:105: UserWarning: The `lr` argument is deprecated, use `learning_rate` instead.\n",
            "  super(Adam, self).__init__(name, **kwargs)\n"
          ]
        }
      ],
      "source": [
        "# Deep Learning model architecture\n",
        " \n",
        "model = Sequential()\n",
        "model.add(Dense(256, input_dim=X_train.shape[1],  activation='relu'))\n",
        "model.add(Dense(128, activation='relu'))\n",
        "model.add(Dense(64, activation='relu'))\n",
        "model.add(Dense(32, activation='relu'))\n",
        "model.add(Dense(16, activation='relu'))\n",
        "model.add(Dense(1))\n",
        "optimizer = tf.keras.optimizers.Adam(lr=0.00001)\n",
        "model.compile(loss='mean_squared_error', optimizer=optimizer,metrics=[tf.keras.metrics.MeanSquaredLogarithmicError(name=\"mean_squared_logarithmic_error\")])\n",
        "\n"
      ]
    },
    {
      "cell_type": "code",
      "source": [
        "# Evaluating model on normal scaled price scale\n",
        "\n",
        "model.fit(X_train,y_train, validation_split=0.2, batch_size=32, epochs=10)\n",
        "model.evaluate(X_test,y_test)"
      ],
      "metadata": {
        "id": "7L2VndVQIliI",
        "colab": {
          "base_uri": "https://localhost:8080/"
        },
        "outputId": "972b334d-6f97-48b1-cc0e-7e81a91eca23"
      },
      "execution_count": 7,
      "outputs": [
        {
          "output_type": "stream",
          "name": "stderr",
          "text": [
            "/usr/local/lib/python3.7/dist-packages/keras/optimizer_v2/adam.py:105: UserWarning: The `lr` argument is deprecated, use `learning_rate` instead.\n",
            "  super(Adam, self).__init__(name, **kwargs)\n"
          ]
        },
        {
          "output_type": "stream",
          "name": "stdout",
          "text": [
            "Epoch 1/10\n",
            "5000/5000 [==============================] - 12s 2ms/step - loss: 1251.1573 - mean_squared_logarithmic_error: 0.9001 - val_loss: 2227.8833 - val_mean_squared_logarithmic_error: 7.1479\n",
            "Epoch 2/10\n",
            "5000/5000 [==============================] - 11s 2ms/step - loss: 1238.1136 - mean_squared_logarithmic_error: 0.8793 - val_loss: 1389.9048 - val_mean_squared_logarithmic_error: 2.9094\n",
            "Epoch 3/10\n",
            "5000/5000 [==============================] - 11s 2ms/step - loss: 1242.4828 - mean_squared_logarithmic_error: 0.8974 - val_loss: 1257.3928 - val_mean_squared_logarithmic_error: 0.8235\n",
            "Epoch 4/10\n",
            "5000/5000 [==============================] - 11s 2ms/step - loss: 1244.5912 - mean_squared_logarithmic_error: 0.9080 - val_loss: 1756.9865 - val_mean_squared_logarithmic_error: 1.3367\n",
            "Epoch 5/10\n",
            "5000/5000 [==============================] - 12s 2ms/step - loss: 1243.1880 - mean_squared_logarithmic_error: 0.9209 - val_loss: 3813.2739 - val_mean_squared_logarithmic_error: 2.3545\n",
            "Epoch 6/10\n",
            "5000/5000 [==============================] - 11s 2ms/step - loss: 1239.1289 - mean_squared_logarithmic_error: 0.9079 - val_loss: 1137.0096 - val_mean_squared_logarithmic_error: 0.4967\n",
            "Epoch 7/10\n",
            "5000/5000 [==============================] - 11s 2ms/step - loss: 1229.1589 - mean_squared_logarithmic_error: 0.8839 - val_loss: 1092.9360 - val_mean_squared_logarithmic_error: 0.4246\n",
            "Epoch 8/10\n",
            "5000/5000 [==============================] - 11s 2ms/step - loss: 1238.7687 - mean_squared_logarithmic_error: 0.8956 - val_loss: 1246.2983 - val_mean_squared_logarithmic_error: 1.4679\n",
            "Epoch 9/10\n",
            "5000/5000 [==============================] - 12s 2ms/step - loss: 1221.8445 - mean_squared_logarithmic_error: 0.8693 - val_loss: 2698.6936 - val_mean_squared_logarithmic_error: 1.8970\n",
            "Epoch 10/10\n",
            "5000/5000 [==============================] - 11s 2ms/step - loss: 1227.8497 - mean_squared_logarithmic_error: 0.9079 - val_loss: 1127.5553 - val_mean_squared_logarithmic_error: 0.5710\n",
            "4633/4633 [==============================] - 7s 2ms/step - loss: 1151.9080 - mean_squared_logarithmic_error: 0.5076\n"
          ]
        },
        {
          "output_type": "execute_result",
          "data": {
            "text/plain": [
              "[1151.907958984375, 0.5075510144233704]"
            ]
          },
          "metadata": {},
          "execution_count": 7
        }
      ]
    },
    {
      "cell_type": "code",
      "source": [
        "# Evaluating model on log scaled price scale\n",
        "\n",
        "model.fit(X_train,y_train_log, validation_split=0.2, batch_size=64, epochs=10)\n",
        "model.evaluate(X_test,y_test_log)"
      ],
      "metadata": {
        "colab": {
          "base_uri": "https://localhost:8080/"
        },
        "id": "NNDs9AlGLI1w",
        "outputId": "7ddc9a2b-746c-4272-c6e2-4540c36362e0"
      },
      "execution_count": 9,
      "outputs": [
        {
          "output_type": "stream",
          "name": "stdout",
          "text": [
            "Epoch 1/10\n",
            "2500/2500 [==============================] - 12s 5ms/step - loss: 2.8672 - mean_squared_logarithmic_error: 0.1726 - val_loss: 0.4434 - val_mean_squared_logarithmic_error: 0.0283\n",
            "Epoch 2/10\n",
            "2500/2500 [==============================] - 9s 4ms/step - loss: 2.7355 - mean_squared_logarithmic_error: 0.1604 - val_loss: 17.2742 - val_mean_squared_logarithmic_error: 1.8500\n",
            "Epoch 3/10\n",
            "2500/2500 [==============================] - 9s 4ms/step - loss: 3.1600 - mean_squared_logarithmic_error: 0.2066 - val_loss: 3.6510 - val_mean_squared_logarithmic_error: 0.4312\n",
            "Epoch 4/10\n",
            "2500/2500 [==============================] - 9s 4ms/step - loss: 2.6420 - mean_squared_logarithmic_error: 0.1549 - val_loss: 0.4046 - val_mean_squared_logarithmic_error: 0.0257\n",
            "Epoch 5/10\n",
            "2500/2500 [==============================] - 9s 4ms/step - loss: 3.2253 - mean_squared_logarithmic_error: 0.1721 - val_loss: 2.4544 - val_mean_squared_logarithmic_error: 0.2402\n",
            "Epoch 6/10\n",
            "2500/2500 [==============================] - 9s 4ms/step - loss: 2.5642 - mean_squared_logarithmic_error: 0.1622 - val_loss: 62.2544 - val_mean_squared_logarithmic_error: 1.8939\n",
            "Epoch 7/10\n",
            "2500/2500 [==============================] - 9s 3ms/step - loss: 2.7869 - mean_squared_logarithmic_error: 0.1775 - val_loss: 0.4434 - val_mean_squared_logarithmic_error: 0.0280\n",
            "Epoch 8/10\n",
            "2500/2500 [==============================] - 9s 4ms/step - loss: 2.9648 - mean_squared_logarithmic_error: 0.1649 - val_loss: 4.4167 - val_mean_squared_logarithmic_error: 0.2022\n",
            "Epoch 9/10\n",
            "2500/2500 [==============================] - 10s 4ms/step - loss: 3.3978 - mean_squared_logarithmic_error: 0.1707 - val_loss: 3.7424 - val_mean_squared_logarithmic_error: 0.4339\n",
            "Epoch 10/10\n",
            "2500/2500 [==============================] - 9s 4ms/step - loss: 3.1140 - mean_squared_logarithmic_error: 0.1603 - val_loss: 0.7958 - val_mean_squared_logarithmic_error: 0.0555\n",
            "4633/4633 [==============================] - 8s 2ms/step - loss: 0.5479 - mean_squared_logarithmic_error: 0.0355\n"
          ]
        },
        {
          "output_type": "execute_result",
          "data": {
            "text/plain": [
              "[0.5479070544242859, 0.035528287291526794]"
            ]
          },
          "metadata": {},
          "execution_count": 9
        }
      ]
    }
  ],
  "metadata": {
    "colab": {
      "name": "DL + w2v",
      "provenance": [],
      "machine_shape": "hm",
      "collapsed_sections": []
    },
    "kernelspec": {
      "display_name": "Python 3",
      "name": "python3"
    },
    "language_info": {
      "name": "python"
    }
  },
  "nbformat": 4,
  "nbformat_minor": 0
}