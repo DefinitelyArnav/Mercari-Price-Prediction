{
  "cells": [
    {
      "cell_type": "code",
      "execution_count": null,
      "metadata": {
        "colab": {
          "base_uri": "https://localhost:8080/"
        },
        "id": "yOQWPTOBeRF2",
        "outputId": "98a9d539-2a6c-48e1-d078-0f10f05186f1"
      },
      "outputs": [
        {
          "output_type": "stream",
          "name": "stdout",
          "text": [
            "Drive already mounted at /content/gdrive; to attempt to forcibly remount, call drive.mount(\"/content/gdrive\", force_remount=True).\n"
          ]
        }
      ],
      "source": [
        "from google.colab import drive\n",
        "drive.mount(\"/content/gdrive\")"
      ]
    },
    {
      "cell_type": "code",
      "execution_count": null,
      "metadata": {
        "id": "L6YNQ4I2g-TI"
      },
      "outputs": [],
      "source": [
        "import sys\n",
        "sys.path.append('/content/gdrive/MyDrive/aml_fp/')"
      ]
    },
    {
      "cell_type": "code",
      "execution_count": null,
      "metadata": {
        "id": "jlSXwWdahbj4"
      },
      "outputs": [],
      "source": [
        "import json\n",
        "import csv\n",
        "import pandas as pd\n",
        "import sklearn\n",
        "import numpy as np\n",
        "import tensorflow as tf\n",
        "import keras\n",
        "import pandas\n",
        "from keras.models import Sequential\n",
        "from keras.layers import Dense\n",
        "from keras.wrappers.scikit_learn import KerasRegressor\n",
        "from keras.losses import mean_squared_error\n",
        "from sklearn.model_selection import cross_val_score\n",
        "from sklearn.model_selection import KFold\n",
        "from sklearn.preprocessing import StandardScaler\n",
        "from sklearn.pipeline import Pipeline\n",
        "import tensorflow.keras.backend as K\n"
      ]
    },
    {
      "cell_type": "code",
      "execution_count": null,
      "metadata": {
        "id": "6u7BIhvplyu3"
      },
      "outputs": [],
      "source": [
        "#with open('/content/gdrive/MyDrive/aml_fp/embedding/train_small_embeddings.json') as json_file:\n",
        "#    embeddings = json.load(json_file)"
      ]
    },
    {
      "cell_type": "code",
      "execution_count": null,
      "metadata": {
        "id": "WhfBfk9zorIe"
      },
      "outputs": [],
      "source": [
        "# with open('/content/gdrive/MyDrive/4995/aml_fp/embedding/train_small_embeddings.json') as json_file_train:\n",
        "#    embeddings_train = json.load(json_file_train)\n"
      ]
    },
    {
      "cell_type": "code",
      "source": [
        "# w2v_train=pd.read_csv(\"/content/gdrive/MyDrive/aml_fp/X_train_150_w2v\")\n",
        "# w2v_test=pd.read_csv(\"/content/gdrive/MyDrive/aml_fp/X_test_150_w2v\")\n",
        "# print(w2v_train.shape)\n",
        "# print(w2v_test.shape)"
      ],
      "metadata": {
        "id": "ORVWPyimr-r_"
      },
      "execution_count": null,
      "outputs": []
    },
    {
      "cell_type": "code",
      "source": [
        "# tfidf_train=pd.read_csv(\"/content/gdrive/MyDrive/aml_fp/other_features/df_train_tfidf.csv\")\n",
        "# tfidf_test=pd.read_csv(\"/content/gdrive/MyDrive/aml_fp/other_features/df_test_tfidf.csv\")\n",
        "# print(tfidf_train.shape)\n",
        "# print(tfidf_test.shape)"
      ],
      "metadata": {
        "id": "vE6M8wLvsTmq"
      },
      "execution_count": null,
      "outputs": []
    },
    {
      "cell_type": "code",
      "source": [
        "bert_train = pd.read_json('/content/gdrive/MyDrive/aml_fp/embedding/train_small_embeddings.json')\n",
        "bert_train = bert_train.drop([0]).reset_index(drop=True)\n",
        "bert_test = pd.read_json('/content/gdrive/MyDrive/4995/test_embeddings_new.json')\n",
        "print(bert_train.shape)\n",
        "print(bert_test.shape)"
      ],
      "metadata": {
        "id": "Ilq-1Z8VB1-1",
        "colab": {
          "base_uri": "https://localhost:8080/"
        },
        "outputId": "3a7068b9-adff-4f46-b519-8ec3b0a09249"
      },
      "execution_count": null,
      "outputs": [
        {
          "output_type": "stream",
          "name": "stdout",
          "text": [
            "(200000, 768)\n",
            "(148254, 768)\n"
          ]
        }
      ]
    },
    {
      "cell_type": "code",
      "source": [
        "category_train=pd.read_csv(\"/content/gdrive/MyDrive/aml_fp/other_features/df_train_category.csv\")\n",
        "category_test=pd.read_csv(\"/content/gdrive/MyDrive/aml_fp/other_features/df_test_category.csv\")\n",
        "print(category_train.shape)\n",
        "print(category_test.shape)\n",
        "\n",
        "#select feature\n",
        "X_train=[category_train.iloc[:,1:7],bert_train]\n",
        "X_train=pd.concat(X_train,axis=1)\n",
        "X_test=[category_test.iloc[:,1:7], bert_test]\n",
        "X_test=pd.concat(X_test,axis=1)\n",
        "print(X_train.shape)\n",
        "print(X_test.shape)\n",
        "\n",
        "y_train = category_train[\"price\"]\n",
        "y_test =  category_test[\"price\"]\n",
        "\n",
        "y_train_log = np.log(category_train[\"price\"]+1)\n",
        "y_test_log = np.log(category_test[\"price\"]+1)\n",
        "print(len(y_test))"
      ],
      "metadata": {
        "colab": {
          "base_uri": "https://localhost:8080/"
        },
        "id": "cwp1KdYwQtXc",
        "outputId": "bc04af9a-f04e-4cbf-9faa-c7ce329f3053"
      },
      "execution_count": null,
      "outputs": [
        {
          "output_type": "stream",
          "name": "stdout",
          "text": [
            "(200000, 8)\n",
            "(148254, 8)\n",
            "(200000, 774)\n",
            "(148254, 774)\n",
            "148254\n"
          ]
        }
      ]
    },
    {
      "cell_type": "code",
      "source": [
        "y_test"
      ],
      "metadata": {
        "colab": {
          "base_uri": "https://localhost:8080/"
        },
        "id": "bzuCSFPGwhmd",
        "outputId": "4320d182-bb34-4ec7-a8b4-5abe290ddbaf"
      },
      "execution_count": null,
      "outputs": [
        {
          "output_type": "execute_result",
          "data": {
            "text/plain": [
              "0         12.0\n",
              "1         76.0\n",
              "2         12.0\n",
              "3          3.0\n",
              "4         30.0\n",
              "          ... \n",
              "148249    14.0\n",
              "148250    16.0\n",
              "148251     7.0\n",
              "148252    22.0\n",
              "148253    23.0\n",
              "Name: price, Length: 148254, dtype: float64"
            ]
          },
          "metadata": {},
          "execution_count": 10
        }
      ]
    },
    {
      "cell_type": "code",
      "source": [
        "# embeddings_train =0\n",
        "# X_train = 0 "
      ],
      "metadata": {
        "id": "7GxJ4tGMBacm"
      },
      "execution_count": null,
      "outputs": []
    },
    {
      "cell_type": "code",
      "execution_count": null,
      "metadata": {
        "id": "49S0186eh9a0"
      },
      "outputs": [],
      "source": [
        "# category_train=pd.read_csv(\"/content/gdrive/MyDrive/aml_fp/other_features/df_train_category.csv\")\n",
        "# category_test=pd.read_csv(\"/content/gdrive/MyDrive/aml_fp/other_features/df_test_category.csv\")\n",
        "# print(category_train.shape)\n",
        "# print(category_test.shape)\n",
        "\n",
        "# tfidf_train=pd.read_csv(\"/content/gdrive/MyDrive/aml_fp/other_features/df_train_tfidf.csv\")\n",
        "# tfidf_test=pd.read_csv(\"/content/gdrive/MyDrive/aml_fp/other_features/df_test_tfidf.csv\")\n",
        "# print(tfidf_train.shape)\n",
        "# print(tfidf_test.shape)\n",
        "\n",
        "# X_train=[category_train.iloc[:,1:7],tfidf_train.iloc[:,1:]]\n",
        "# X_train=pd.concat(X_train,axis=1)\n",
        "# y_train=category_train[\"price\"]\n",
        "# X_test=[category_test.iloc[:,1:7],tfidf_test.iloc[:,1:]]\n",
        "# X_test=pd.concat(X_test,axis=1)\n",
        "# y_test=category_test[\"price\"]\n",
        "# print(X_train.shape)\n",
        "# print(X_test.shape)"
      ]
    },
    {
      "cell_type": "code",
      "execution_count": null,
      "metadata": {
        "id": "9yF43fuJnVV6"
      },
      "outputs": [],
      "source": [
        "# category_train=pd.read_csv(\"/content/gdrive/MyDrive/4995/aml_fp/other_features/df_train_category.csv\")\n",
        "# category_test=pd.read_csv(\"/content/gdrive/MyDrive/4995/aml_fp/other_features/df_test_category.csv\")\n",
        "# print(category_train.shape)\n",
        "# print(category_test.shape)\n",
        "\n",
        "# tfidf_train=pd.read_csv(\"/content/gdrive/MyDrive/4995/aml_fp/other_features/df_train_tfidf.csv\")\n",
        "# tfidf_test=pd.read_csv(\"/content/gdrive/MyDrive/4995/aml_fp/other_features/df_test_tfidf.csv\")\n",
        "# print(tfidf_train.shape)\n",
        "# print(tfidf_test.shape)\n",
        "\n",
        "# X_train=[category_train.iloc[:,1:7],tfidf_train.iloc[:,1:]]\n",
        "# X_train=pd.concat(X_train,axis=1)\n",
        "# y_train=category_train[\"price\"]\n",
        "# X_test=[category_test.iloc[:,1:7],tfidf_test.iloc[:,1:]]\n",
        "# X_test=pd.concat(X_test,axis=1)\n",
        "# y_test=category_test[\"price\"]\n",
        "# print(X_train.shape)\n",
        "# print(X_test.shape)\n"
      ]
    },
    {
      "cell_type": "code",
      "execution_count": null,
      "metadata": {
        "id": "Inos5Es6nptp"
      },
      "outputs": [],
      "source": [
        "# X_train=pd.read_csv(\"/content/gdrive/MyDrive/4995/aml_fp/X_train_150_w2v\")\n",
        "# y_train=pd.read_csv(\"/content/gdrive/MyDrive/4995/aml_fp/y_train_150_w2v\")\n",
        "# X_test=pd.read_csv(\"/content/gdrive/MyDrive/4995/aml_fp/X_test_150_w2v\")\n",
        "# y_test=pd.read_csv(\"/content/gdrive/MyDrive/4995/aml_fp/y_test_150_w2v\")\n",
        "\n",
        "# y_train=y_train.iloc[:,1:]\n",
        "# y_test=y_test.iloc[:,1:]"
      ]
    },
    {
      "cell_type": "code",
      "source": [
        "\n",
        "def root_mean_squared_log_error(y_true, y_pred):\n",
        "    msle = tf.keras.losses.MeanSquaredLogarithmicError()\n",
        "    return K.sqrt(msle(y_true, y_pred)) "
      ],
      "metadata": {
        "id": "EHMTPZwAxhPE"
      },
      "execution_count": null,
      "outputs": []
    },
    {
      "cell_type": "code",
      "execution_count": null,
      "metadata": {
        "colab": {
          "base_uri": "https://localhost:8080/"
        },
        "id": "8ojiNTybkYgG",
        "outputId": "ec87ef22-c143-48c2-92d7-5f726d68899f"
      },
      "outputs": [
        {
          "output_type": "stream",
          "name": "stderr",
          "text": [
            "/usr/local/lib/python3.7/dist-packages/keras/optimizer_v2/adam.py:105: UserWarning: The `lr` argument is deprecated, use `learning_rate` instead.\n",
            "  super(Adam, self).__init__(name, **kwargs)\n"
          ]
        },
        {
          "output_type": "stream",
          "name": "stdout",
          "text": [
            "Epoch 1/30\n",
            "2500/2500 [==============================] - 12s 4ms/step - loss: 1235.7098 - mean_squared_logarithmic_error: 0.5739 - val_loss: 1085.6556 - val_mean_squared_logarithmic_error: 0.4418\n",
            "Epoch 2/30\n",
            "2500/2500 [==============================] - 9s 3ms/step - loss: 1102.7397 - mean_squared_logarithmic_error: 0.4081 - val_loss: 1068.4648 - val_mean_squared_logarithmic_error: 0.4117\n",
            "Epoch 3/30\n",
            "2500/2500 [==============================] - 9s 3ms/step - loss: 1091.4886 - mean_squared_logarithmic_error: 0.4009 - val_loss: 1063.2205 - val_mean_squared_logarithmic_error: 0.3950\n",
            "Epoch 4/30\n",
            "2500/2500 [==============================] - 8s 3ms/step - loss: 1084.2053 - mean_squared_logarithmic_error: 0.3935 - val_loss: 1060.1998 - val_mean_squared_logarithmic_error: 0.4121\n",
            "Epoch 5/30\n",
            "2500/2500 [==============================] - 8s 3ms/step - loss: 1079.6642 - mean_squared_logarithmic_error: 0.3894 - val_loss: 1059.2509 - val_mean_squared_logarithmic_error: 0.3700\n",
            "Epoch 6/30\n",
            "2500/2500 [==============================] - 8s 3ms/step - loss: 1075.0026 - mean_squared_logarithmic_error: 0.3866 - val_loss: 1050.7288 - val_mean_squared_logarithmic_error: 0.3937\n",
            "Epoch 7/30\n",
            "2500/2500 [==============================] - 8s 3ms/step - loss: 1070.8215 - mean_squared_logarithmic_error: 0.3840 - val_loss: 1050.6050 - val_mean_squared_logarithmic_error: 0.4001\n",
            "Epoch 8/30\n",
            "2500/2500 [==============================] - 8s 3ms/step - loss: 1069.2504 - mean_squared_logarithmic_error: 0.3832 - val_loss: 1043.4656 - val_mean_squared_logarithmic_error: 0.3828\n",
            "Epoch 9/30\n",
            "2500/2500 [==============================] - 8s 3ms/step - loss: 1065.2411 - mean_squared_logarithmic_error: 0.3814 - val_loss: 1045.8298 - val_mean_squared_logarithmic_error: 0.4119\n",
            "Epoch 10/30\n",
            "2500/2500 [==============================] - 8s 3ms/step - loss: 1063.3820 - mean_squared_logarithmic_error: 0.3807 - val_loss: 1043.5352 - val_mean_squared_logarithmic_error: 0.3595\n",
            "Epoch 11/30\n",
            "2500/2500 [==============================] - 8s 3ms/step - loss: 1058.9081 - mean_squared_logarithmic_error: 0.3799 - val_loss: 1048.5344 - val_mean_squared_logarithmic_error: 0.3631\n",
            "Epoch 12/30\n",
            "2500/2500 [==============================] - 8s 3ms/step - loss: 1057.9814 - mean_squared_logarithmic_error: 0.3796 - val_loss: 1040.0621 - val_mean_squared_logarithmic_error: 0.3683\n",
            "Epoch 13/30\n",
            "2500/2500 [==============================] - 8s 3ms/step - loss: 1055.9741 - mean_squared_logarithmic_error: 0.3784 - val_loss: 1034.5562 - val_mean_squared_logarithmic_error: 0.3958\n",
            "Epoch 14/30\n",
            "2500/2500 [==============================] - 8s 3ms/step - loss: 1054.0991 - mean_squared_logarithmic_error: 0.3775 - val_loss: 1037.4760 - val_mean_squared_logarithmic_error: 0.3570\n",
            "Epoch 15/30\n",
            "2500/2500 [==============================] - 8s 3ms/step - loss: 1052.1144 - mean_squared_logarithmic_error: 0.3777 - val_loss: 1039.6598 - val_mean_squared_logarithmic_error: 0.3648\n",
            "Epoch 16/30\n",
            "2500/2500 [==============================] - 8s 3ms/step - loss: 1050.7875 - mean_squared_logarithmic_error: 0.3763 - val_loss: 1035.5459 - val_mean_squared_logarithmic_error: 0.3506\n",
            "Epoch 17/30\n",
            "2500/2500 [==============================] - 8s 3ms/step - loss: 1047.8434 - mean_squared_logarithmic_error: 0.3756 - val_loss: 1025.4742 - val_mean_squared_logarithmic_error: 0.3662\n",
            "Epoch 18/30\n",
            "2500/2500 [==============================] - 8s 3ms/step - loss: 1046.3792 - mean_squared_logarithmic_error: 0.3757 - val_loss: 1025.6116 - val_mean_squared_logarithmic_error: 0.3706\n",
            "Epoch 19/30\n",
            "2500/2500 [==============================] - 8s 3ms/step - loss: 1040.4391 - mean_squared_logarithmic_error: 0.3749 - val_loss: 1027.8926 - val_mean_squared_logarithmic_error: 0.3916\n",
            "Epoch 20/30\n",
            "2500/2500 [==============================] - 8s 3ms/step - loss: 1043.8344 - mean_squared_logarithmic_error: 0.3754 - val_loss: 1020.8183 - val_mean_squared_logarithmic_error: 0.3723\n",
            "Epoch 21/30\n",
            "2500/2500 [==============================] - 8s 3ms/step - loss: 1040.7692 - mean_squared_logarithmic_error: 0.3740 - val_loss: 1023.4185 - val_mean_squared_logarithmic_error: 0.3686\n",
            "Epoch 22/30\n",
            "2500/2500 [==============================] - 9s 3ms/step - loss: 1038.8196 - mean_squared_logarithmic_error: 0.3740 - val_loss: 1029.8820 - val_mean_squared_logarithmic_error: 0.3577\n",
            "Epoch 23/30\n",
            "2500/2500 [==============================] - 8s 3ms/step - loss: 1037.1449 - mean_squared_logarithmic_error: 0.3737 - val_loss: 1013.8544 - val_mean_squared_logarithmic_error: 0.3945\n",
            "Epoch 24/30\n",
            "2500/2500 [==============================] - 8s 3ms/step - loss: 1033.4747 - mean_squared_logarithmic_error: 0.3726 - val_loss: 1023.3338 - val_mean_squared_logarithmic_error: 0.3601\n",
            "Epoch 25/30\n",
            "2500/2500 [==============================] - 9s 3ms/step - loss: 1031.0333 - mean_squared_logarithmic_error: 0.3723 - val_loss: 1010.7331 - val_mean_squared_logarithmic_error: 0.3789\n",
            "Epoch 26/30\n",
            "2500/2500 [==============================] - 8s 3ms/step - loss: 1027.0250 - mean_squared_logarithmic_error: 0.3721 - val_loss: 1030.4810 - val_mean_squared_logarithmic_error: 0.4228\n",
            "Epoch 27/30\n",
            "2500/2500 [==============================] - 9s 3ms/step - loss: 1026.5399 - mean_squared_logarithmic_error: 0.3714 - val_loss: 1006.7530 - val_mean_squared_logarithmic_error: 0.3808\n",
            "Epoch 28/30\n",
            "2500/2500 [==============================] - 8s 3ms/step - loss: 1024.7476 - mean_squared_logarithmic_error: 0.3706 - val_loss: 1012.4621 - val_mean_squared_logarithmic_error: 0.3630\n",
            "Epoch 29/30\n",
            "2500/2500 [==============================] - 8s 3ms/step - loss: 1017.6941 - mean_squared_logarithmic_error: 0.3711 - val_loss: 1007.1650 - val_mean_squared_logarithmic_error: 0.3555\n",
            "Epoch 30/30\n",
            "2500/2500 [==============================] - 8s 3ms/step - loss: 1018.3943 - mean_squared_logarithmic_error: 0.3698 - val_loss: 1005.1933 - val_mean_squared_logarithmic_error: 0.3791\n",
            "4633/4633 [==============================] - 13s 3ms/step - loss: 1054.2266 - mean_squared_logarithmic_error: 0.3849\n"
          ]
        },
        {
          "output_type": "execute_result",
          "data": {
            "text/plain": [
              "[1054.2265625, 0.3849416971206665]"
            ]
          },
          "metadata": {},
          "execution_count": 16
        }
      ],
      "source": [
        "model = Sequential()\n",
        "model.add(Dense(1024, input_dim=X_train.shape[1],  activation='relu'))\n",
        "model.add(Dense(512, activation='relu'))\n",
        "model.add(Dense(256, activation='relu'))\n",
        "model.add(Dense(128, activation='relu'))\n",
        "model.add(Dense(64, activation='relu'))\n",
        "model.add(Dense(32, activation='relu'))\n",
        "model.add(Dense(1))\n",
        "# Compile model\n",
        "optimizer = tf.keras.optimizers.Adam(lr=0.00001)\n",
        "#model.compile(loss='mean_squared_error', optimizer='adam',metrics=[tf.keras.metrics.MeanSquaredError()])\n",
        "model.compile(loss='mean_squared_error', optimizer=optimizer,metrics=[tf.keras.metrics.MeanSquaredLogarithmicError(name=\"mean_squared_logarithmic_error\")])\n",
        "#model.compile(loss='mean_squared_error', optimizer='adam',metrics=[tf.keras.metrics.MeanSquaredLogarithmicError(name=\"mean_squared_logarithmic_error\")])\n",
        "#model.compile(loss='mean_squared_error', optimizer='adam',metrics=[tf.keras.metrics.RootMeanSquaredError(name='rmse')])\n",
        "model.fit(X_train,y_train, validation_split=0.2, batch_size=64, epochs=30)\n",
        "model.evaluate(X_test,y_test)"
      ]
    },
    {
      "cell_type": "markdown",
      "source": [
        "### logprice"
      ],
      "metadata": {
        "id": "pzEb5Un_V459"
      }
    },
    {
      "cell_type": "code",
      "source": [
        "model_lg = Sequential()\n",
        "model_lg.add(Dense(1024, input_dim=X_train.shape[1],  activation='relu'))\n",
        "model_lg.add(Dense(512, activation='relu'))\n",
        "model_lg.add(Dense(256, activation='relu'))\n",
        "model_lg.add(Dense(128, activation='relu'))\n",
        "model_lg.add(Dense(64, activation='relu'))\n",
        "model_lg.add(Dense(32, activation='relu'))\n",
        "model_lg.add(Dense(1))\n",
        "# Compile model\n",
        "optimizer = tf.keras.optimizers.Adam(lr=0.00001)\n",
        "#model.compile(loss='mean_squared_error', optimizer='adam',metrics=[tf.keras.metrics.MeanSquaredError()])\n",
        "model_lg.compile(loss='mean_squared_error', optimizer=optimizer,metrics=[tf.keras.metrics.MeanSquaredLogarithmicError(name=\"mean_squared_logarithmic_error\")])\n",
        "#model.compile(loss='mean_squared_error', optimizer='adam',metrics=[tf.keras.metrics.MeanSquaredLogarithmicError(name=\"mean_squared_logarithmic_error\")])\n",
        "#model.compile(loss='mean_squared_error', optimizer='adam',metrics=[tf.keras.metrics.RootMeanSquaredError(name='rmse')])\n",
        "model_lg.fit(X_train,y_train_log, validation_split=0.2, batch_size=64, epochs=10)\n",
        "model_lg.evaluate(X_test,y_test_log)"
      ],
      "metadata": {
        "colab": {
          "base_uri": "https://localhost:8080/"
        },
        "id": "eGdPmhG_VcwC",
        "outputId": "a1637b04-4339-4266-c856-f73a2e07ab57"
      },
      "execution_count": null,
      "outputs": [
        {
          "output_type": "stream",
          "name": "stderr",
          "text": [
            "/usr/local/lib/python3.7/dist-packages/keras/optimizer_v2/adam.py:105: UserWarning: The `lr` argument is deprecated, use `learning_rate` instead.\n",
            "  super(Adam, self).__init__(name, **kwargs)\n"
          ]
        },
        {
          "output_type": "stream",
          "name": "stdout",
          "text": [
            "Epoch 1/10\n",
            "2500/2500 [==============================] - 10s 4ms/step - loss: 0.3537 - mean_squared_logarithmic_error: 0.0227 - val_loss: 0.3398 - val_mean_squared_logarithmic_error: 0.0215\n",
            "Epoch 2/10\n",
            "2500/2500 [==============================] - 8s 3ms/step - loss: 0.3350 - mean_squared_logarithmic_error: 0.0217 - val_loss: 0.3351 - val_mean_squared_logarithmic_error: 0.0216\n",
            "Epoch 3/10\n",
            "2500/2500 [==============================] - 8s 3ms/step - loss: 0.3310 - mean_squared_logarithmic_error: 0.0214 - val_loss: 0.3287 - val_mean_squared_logarithmic_error: 0.0211\n",
            "Epoch 4/10\n",
            "2500/2500 [==============================] - 8s 3ms/step - loss: 0.3274 - mean_squared_logarithmic_error: 0.0212 - val_loss: 0.3271 - val_mean_squared_logarithmic_error: 0.0208\n",
            "Epoch 5/10\n",
            "2500/2500 [==============================] - 9s 3ms/step - loss: 0.3255 - mean_squared_logarithmic_error: 0.0211 - val_loss: 0.3326 - val_mean_squared_logarithmic_error: 0.0216\n",
            "Epoch 6/10\n",
            "2500/2500 [==============================] - 9s 3ms/step - loss: 0.3239 - mean_squared_logarithmic_error: 0.0210 - val_loss: 0.3272 - val_mean_squared_logarithmic_error: 0.0206\n",
            "Epoch 7/10\n",
            "2500/2500 [==============================] - 9s 3ms/step - loss: 0.3216 - mean_squared_logarithmic_error: 0.0208 - val_loss: 0.3240 - val_mean_squared_logarithmic_error: 0.0210\n",
            "Epoch 8/10\n",
            "2500/2500 [==============================] - 8s 3ms/step - loss: 0.3202 - mean_squared_logarithmic_error: 0.0207 - val_loss: 0.3326 - val_mean_squared_logarithmic_error: 0.0207\n",
            "Epoch 9/10\n",
            "2500/2500 [==============================] - 9s 3ms/step - loss: 0.3199 - mean_squared_logarithmic_error: 0.0207 - val_loss: 0.3236 - val_mean_squared_logarithmic_error: 0.0204\n",
            "Epoch 10/10\n",
            "2500/2500 [==============================] - 8s 3ms/step - loss: 0.3181 - mean_squared_logarithmic_error: 0.0206 - val_loss: 0.3221 - val_mean_squared_logarithmic_error: 0.0208\n",
            "4633/4633 [==============================] - 13s 3ms/step - loss: 0.3279 - mean_squared_logarithmic_error: 0.0212\n"
          ]
        },
        {
          "output_type": "execute_result",
          "data": {
            "text/plain": [
              "[0.3279038965702057, 0.021249227225780487]"
            ]
          },
          "metadata": {},
          "execution_count": 17
        }
      ]
    }
  ],
  "metadata": {
    "accelerator": "GPU",
    "colab": {
      "name": "DeepLearningModel_+ BERT.ipynb",
      "provenance": [],
      "machine_shape": "hm",
      "collapsed_sections": []
    },
    "kernelspec": {
      "display_name": "Python 3",
      "name": "python3"
    },
    "language_info": {
      "name": "python"
    }
  },
  "nbformat": 4,
  "nbformat_minor": 0
}