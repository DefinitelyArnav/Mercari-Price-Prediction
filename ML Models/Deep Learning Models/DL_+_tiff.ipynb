{
  "cells": [
    {
      "cell_type": "code",
      "execution_count": 1,
      "metadata": {
        "colab": {
          "base_uri": "https://localhost:8080/"
        },
        "id": "yOQWPTOBeRF2",
        "outputId": "ecf75304-4687-43b0-afef-4d786bd7d267"
      },
      "outputs": [
        {
          "output_type": "stream",
          "name": "stdout",
          "text": [
            "Mounted at /content/gdrive\n"
          ]
        }
      ],
      "source": [
        "from google.colab import drive\n",
        "drive.mount(\"/content/gdrive\")"
      ]
    },
    {
      "cell_type": "code",
      "execution_count": 2,
      "metadata": {
        "id": "L6YNQ4I2g-TI"
      },
      "outputs": [],
      "source": [
        "import sys\n",
        "sys.path.append('/content/gdrive/MyDrive/aml_fp/')"
      ]
    },
    {
      "cell_type": "code",
      "execution_count": 3,
      "metadata": {
        "id": "jlSXwWdahbj4"
      },
      "outputs": [],
      "source": [
        "import json\n",
        "import csv\n",
        "import pandas as pd\n",
        "import sklearn\n",
        "import numpy as np\n",
        "import tensorflow as tf\n",
        "import pandas\n",
        "import keras\n",
        "from keras.models import Sequential\n",
        "from keras.layers import Dense\n",
        "from keras.wrappers.scikit_learn import KerasRegressor\n",
        "from keras.losses import mean_squared_error\n",
        "from sklearn.model_selection import cross_val_score\n",
        "from sklearn.model_selection import KFold\n",
        "from sklearn.preprocessing import StandardScaler\n",
        "from sklearn.pipeline import Pipeline\n",
        "from tensorflow.keras.callbacks import EarlyStopping\n",
        "\n",
        "import tensorflow.keras.backend as K\n"
      ]
    },
    {
      "cell_type": "code",
      "execution_count": 6,
      "metadata": {
        "id": "Inos5Es6nptp"
      },
      "outputs": [],
      "source": [
        "\n",
        "# Loading tfidf + categorical features\n",
        "X_train=pd.read_csv(\"/content/gdrive/MyDrive/aml_fp/X_train\")\n",
        "y_train=pd.read_csv(\"/content/gdrive/MyDrive/aml_fp/y_train\")\n",
        "X_test=pd.read_csv(\"/content/gdrive/MyDrive/aml_fp/X_test\")\n",
        "y_test=pd.read_csv(\"/content/gdrive/MyDrive/aml_fp/y_test\")\n",
        "\n",
        "# Normal price \n",
        "y_train=y_train.iloc[:,1:]\n",
        "y_test=y_test.iloc[:,1:]\n",
        "\n",
        "# Log scaled price \n",
        "y_train_log=np.log(y_train+1)\n",
        "y_test_log=np.log(y_test+1)\n",
        "\n",
        "\n",
        "\n"
      ]
    },
    {
      "cell_type": "code",
      "execution_count": 7,
      "metadata": {
        "colab": {
          "base_uri": "https://localhost:8080/"
        },
        "id": "8ojiNTybkYgG",
        "outputId": "5e19eb34-23af-4c9a-a470-8ae35a15c302"
      },
      "outputs": [
        {
          "output_type": "stream",
          "name": "stderr",
          "text": [
            "/usr/local/lib/python3.7/dist-packages/keras/optimizer_v2/adam.py:105: UserWarning: The `lr` argument is deprecated, use `learning_rate` instead.\n",
            "  super(Adam, self).__init__(name, **kwargs)\n"
          ]
        }
      ],
      "source": [
        "# Deep Learning model architecture\n",
        " \n",
        "model = Sequential()\n",
        "model.add(Dense(512, input_dim=X_train.shape[1],  activation='relu'))\n",
        "model.add(Dense(256, activation='relu'))\n",
        "model.add(Dense(128, activation='relu'))\n",
        "model.add(Dense(64, activation='relu'))\n",
        "model.add(Dense(32, activation='relu'))\n",
        "model.add(Dense(16, activation='relu'))\n",
        "model.add(Dense(1))\n",
        "optimizer = tf.keras.optimizers.Adam(lr=0.00001)\n",
        "model.compile(loss='mean_squared_error', optimizer=optimizer,metrics=[tf.keras.metrics.MeanSquaredLogarithmicError(name=\"mean_squared_logarithmic_error\")])\n",
        "\n"
      ]
    },
    {
      "cell_type": "code",
      "source": [
        "# Evaluating model on normal price scale\n",
        "\n",
        "optimizer = tf.keras.optimizers.Adam(lr=0.00001)\n",
        "model.compile(loss='mean_squared_error', optimizer=optimizer,metrics=[tf.keras.metrics.MeanSquaredLogarithmicError(name=\"mean_squared_logarithmic_error\")])\n",
        "model.fit(X_train,y_train, validation_split=0.2, batch_size=32, epochs=10)\n",
        "model.evaluate(X_test,y_test)"
      ],
      "metadata": {
        "colab": {
          "base_uri": "https://localhost:8080/"
        },
        "id": "jCY_45YSIOP8",
        "outputId": "1de47eac-f504-43ea-d2ad-9e8f40589862"
      },
      "execution_count": 11,
      "outputs": [
        {
          "output_type": "stream",
          "name": "stderr",
          "text": [
            "/usr/local/lib/python3.7/dist-packages/keras/optimizer_v2/adam.py:105: UserWarning: The `lr` argument is deprecated, use `learning_rate` instead.\n",
            "  super(Adam, self).__init__(name, **kwargs)\n"
          ]
        },
        {
          "output_type": "stream",
          "name": "stdout",
          "text": [
            "Epoch 1/25\n",
            "5000/5000 [==============================] - 21s 4ms/step - loss: 1253.3138 - mean_squared_logarithmic_error: 0.9171 - val_loss: 1122.2100 - val_mean_squared_logarithmic_error: 0.5421\n",
            "Epoch 2/25\n",
            "5000/5000 [==============================] - 19s 4ms/step - loss: 1247.5643 - mean_squared_logarithmic_error: 0.8986 - val_loss: 2991.0913 - val_mean_squared_logarithmic_error: 2.0344\n",
            "Epoch 3/25\n",
            "5000/5000 [==============================] - 19s 4ms/step - loss: 1238.7804 - mean_squared_logarithmic_error: 0.8571 - val_loss: 1108.0828 - val_mean_squared_logarithmic_error: 0.4856\n",
            "Epoch 4/25\n",
            "5000/5000 [==============================] - 18s 4ms/step - loss: 1232.8633 - mean_squared_logarithmic_error: 0.8309 - val_loss: 1166.4796 - val_mean_squared_logarithmic_error: 0.6201\n",
            "Epoch 5/25\n",
            "5000/5000 [==============================] - 18s 4ms/step - loss: 1229.8014 - mean_squared_logarithmic_error: 0.8368 - val_loss: 1824.0316 - val_mean_squared_logarithmic_error: 6.1059\n",
            "Epoch 6/25\n",
            "5000/5000 [==============================] - 19s 4ms/step - loss: 1235.1515 - mean_squared_logarithmic_error: 0.8106 - val_loss: 1101.1364 - val_mean_squared_logarithmic_error: 0.4191\n",
            "Epoch 7/25\n",
            "5000/5000 [==============================] - 18s 4ms/step - loss: 1229.6194 - mean_squared_logarithmic_error: 0.8286 - val_loss: 1547.3455 - val_mean_squared_logarithmic_error: 4.7368\n",
            "Epoch 8/25\n",
            "5000/5000 [==============================] - 18s 4ms/step - loss: 1240.9199 - mean_squared_logarithmic_error: 0.9110 - val_loss: 1776.4264 - val_mean_squared_logarithmic_error: 1.3462\n",
            "Epoch 9/25\n",
            "5000/5000 [==============================] - 18s 4ms/step - loss: 1223.1282 - mean_squared_logarithmic_error: 0.8582 - val_loss: 1097.5093 - val_mean_squared_logarithmic_error: 0.4130\n",
            "Epoch 10/25\n",
            "5000/5000 [==============================] - 19s 4ms/step - loss: 1226.6061 - mean_squared_logarithmic_error: 0.8636 - val_loss: 1146.7812 - val_mean_squared_logarithmic_error: 0.5255\n",
            "Epoch 11/25\n",
            "5000/5000 [==============================] - 18s 4ms/step - loss: 1228.6331 - mean_squared_logarithmic_error: 0.8555 - val_loss: 1236.8206 - val_mean_squared_logarithmic_error: 1.2325\n",
            "Epoch 12/25\n",
            "5000/5000 [==============================] - 18s 4ms/step - loss: 1219.5115 - mean_squared_logarithmic_error: 0.8302 - val_loss: 1101.7765 - val_mean_squared_logarithmic_error: 0.4357\n",
            "Epoch 13/25\n",
            "5000/5000 [==============================] - 18s 4ms/step - loss: 1220.8448 - mean_squared_logarithmic_error: 0.7939 - val_loss: 1570.5291 - val_mean_squared_logarithmic_error: 4.6725\n",
            "Epoch 14/25\n",
            "5000/5000 [==============================] - 19s 4ms/step - loss: 1215.8228 - mean_squared_logarithmic_error: 0.7799 - val_loss: 1104.8848 - val_mean_squared_logarithmic_error: 0.4655\n",
            "Epoch 15/25\n",
            "5000/5000 [==============================] - 18s 4ms/step - loss: 1218.8160 - mean_squared_logarithmic_error: 0.8138 - val_loss: 1092.8790 - val_mean_squared_logarithmic_error: 0.4163\n",
            "Epoch 16/25\n",
            "5000/5000 [==============================] - 19s 4ms/step - loss: 1205.5389 - mean_squared_logarithmic_error: 0.7972 - val_loss: 1091.6868 - val_mean_squared_logarithmic_error: 0.4213\n",
            "Epoch 17/25\n",
            "5000/5000 [==============================] - 19s 4ms/step - loss: 1206.5713 - mean_squared_logarithmic_error: 0.7949 - val_loss: 1133.6309 - val_mean_squared_logarithmic_error: 0.4579\n",
            "Epoch 18/25\n",
            "5000/5000 [==============================] - 19s 4ms/step - loss: 1208.9156 - mean_squared_logarithmic_error: 0.7808 - val_loss: 1228.7717 - val_mean_squared_logarithmic_error: 0.9181\n",
            "Epoch 19/25\n",
            "5000/5000 [==============================] - 19s 4ms/step - loss: 1206.0198 - mean_squared_logarithmic_error: 0.7842 - val_loss: 1099.4698 - val_mean_squared_logarithmic_error: 0.4801\n",
            "Epoch 20/25\n",
            "5000/5000 [==============================] - 19s 4ms/step - loss: 1199.1801 - mean_squared_logarithmic_error: 0.7468 - val_loss: 1712.8824 - val_mean_squared_logarithmic_error: 1.3047\n",
            "Epoch 21/25\n",
            "5000/5000 [==============================] - 18s 4ms/step - loss: 1202.8398 - mean_squared_logarithmic_error: 0.7557 - val_loss: 1092.3011 - val_mean_squared_logarithmic_error: 0.4052\n",
            "Epoch 22/25\n",
            "5000/5000 [==============================] - 19s 4ms/step - loss: 1198.6639 - mean_squared_logarithmic_error: 0.7445 - val_loss: 1171.8022 - val_mean_squared_logarithmic_error: 0.5763\n",
            "Epoch 23/25\n",
            "5000/5000 [==============================] - 19s 4ms/step - loss: 1203.6755 - mean_squared_logarithmic_error: 0.7415 - val_loss: 1261.5035 - val_mean_squared_logarithmic_error: 1.3438\n",
            "Epoch 24/25\n",
            "5000/5000 [==============================] - 18s 4ms/step - loss: 1191.5319 - mean_squared_logarithmic_error: 0.7095 - val_loss: 1676.0085 - val_mean_squared_logarithmic_error: 5.5241\n",
            "Epoch 25/25\n",
            "5000/5000 [==============================] - 19s 4ms/step - loss: 1191.8007 - mean_squared_logarithmic_error: 0.7197 - val_loss: 1313.2310 - val_mean_squared_logarithmic_error: 0.8960\n",
            "3125/3125 [==============================] - 5s 2ms/step - loss: 1081.1647 - mean_squared_logarithmic_error: 0.5424\n"
          ]
        },
        {
          "output_type": "execute_result",
          "data": {
            "text/plain": [
              "[1081.1646728515625, 0.5423682332038879]"
            ]
          },
          "metadata": {},
          "execution_count": 11
        }
      ]
    },
    {
      "cell_type": "code",
      "source": [
        "# Evaluating model on log scaled price \n",
        "\n",
        "optimizer = tf.keras.optimizers.Adam(lr=0.00001)\n",
        "model.compile(loss='mean_squared_error', optimizer=optimizer,metrics=[tf.keras.metrics.MeanSquaredLogarithmicError(name=\"mean_squared_logarithmic_error\")])\n",
        "model.fit(X_train,y_train_log, validation_split=0.2, batch_size=32, epochs=10)\n",
        "model.evaluate(X_test,y_test_log)"
      ],
      "metadata": {
        "colab": {
          "base_uri": "https://localhost:8080/"
        },
        "id": "7L2VndVQIliI",
        "outputId": "b4df735d-df1e-471c-dd7e-37a8f166d807"
      },
      "execution_count": 9,
      "outputs": [
        {
          "output_type": "stream",
          "name": "stderr",
          "text": [
            "/usr/local/lib/python3.7/dist-packages/keras/optimizer_v2/adam.py:105: UserWarning: The `lr` argument is deprecated, use `learning_rate` instead.\n",
            "  super(Adam, self).__init__(name, **kwargs)\n"
          ]
        },
        {
          "output_type": "stream",
          "name": "stdout",
          "text": [
            "Epoch 1/10\n",
            "5000/5000 [==============================] - 20s 4ms/step - loss: 55.0634 - mean_squared_logarithmic_error: 0.8215 - val_loss: 20.1316 - val_mean_squared_logarithmic_error: 0.5305\n",
            "Epoch 2/10\n",
            "5000/5000 [==============================] - 20s 4ms/step - loss: 7.5981 - mean_squared_logarithmic_error: 0.4200 - val_loss: 1.3577 - val_mean_squared_logarithmic_error: 0.0636\n",
            "Epoch 3/10\n",
            "5000/5000 [==============================] - 18s 4ms/step - loss: 6.5529 - mean_squared_logarithmic_error: 0.2773 - val_loss: 2.2413 - val_mean_squared_logarithmic_error: 0.1194\n",
            "Epoch 4/10\n",
            "5000/5000 [==============================] - 19s 4ms/step - loss: 5.5453 - mean_squared_logarithmic_error: 0.2066 - val_loss: 0.6219 - val_mean_squared_logarithmic_error: 0.0409\n",
            "Epoch 5/10\n",
            "5000/5000 [==============================] - 18s 4ms/step - loss: 5.7083 - mean_squared_logarithmic_error: 0.2346 - val_loss: 0.6386 - val_mean_squared_logarithmic_error: 0.0395\n",
            "Epoch 6/10\n",
            "5000/5000 [==============================] - 18s 4ms/step - loss: 4.8511 - mean_squared_logarithmic_error: 0.2339 - val_loss: 4.0348 - val_mean_squared_logarithmic_error: 0.1878\n",
            "Epoch 7/10\n",
            "5000/5000 [==============================] - 19s 4ms/step - loss: 4.8101 - mean_squared_logarithmic_error: 0.2260 - val_loss: 3.8570 - val_mean_squared_logarithmic_error: 0.1816\n",
            "Epoch 8/10\n",
            "5000/5000 [==============================] - 18s 4ms/step - loss: 5.7693 - mean_squared_logarithmic_error: 0.2009 - val_loss: 0.8061 - val_mean_squared_logarithmic_error: 0.0542\n",
            "Epoch 9/10\n",
            "5000/5000 [==============================] - 19s 4ms/step - loss: 4.5387 - mean_squared_logarithmic_error: 0.2199 - val_loss: 6.3939 - val_mean_squared_logarithmic_error: 0.9979\n",
            "Epoch 10/10\n",
            "5000/5000 [==============================] - 19s 4ms/step - loss: 4.6872 - mean_squared_logarithmic_error: 0.1933 - val_loss: 1.5377 - val_mean_squared_logarithmic_error: 0.0860\n",
            "3125/3125 [==============================] - 5s 2ms/step - loss: 0.4564 - mean_squared_logarithmic_error: 0.0299\n"
          ]
        },
        {
          "output_type": "execute_result",
          "data": {
            "text/plain": [
              "[0.4563615918159485, 0.029907101765275]"
            ]
          },
          "metadata": {},
          "execution_count": 9
        }
      ]
    }
  ],
  "metadata": {
    "accelerator": "GPU",
    "colab": {
      "name": "DL + tiff",
      "provenance": [],
      "machine_shape": "hm",
      "collapsed_sections": []
    },
    "kernelspec": {
      "display_name": "Python 3",
      "name": "python3"
    },
    "language_info": {
      "name": "python"
    }
  },
  "nbformat": 4,
  "nbformat_minor": 0
}