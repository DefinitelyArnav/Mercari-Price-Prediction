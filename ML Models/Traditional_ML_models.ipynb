{
  "cells": [
    {
      "cell_type": "code",
      "execution_count": null,
      "metadata": {
        "collapsed": true,
        "id": "q0cyeSksvjUN"
      },
      "outputs": [],
      "source": [
        "import pandas as pd\n",
        "import numpy as np\n",
        "from sklearn import metrics\n",
        "from sklearn.linear_model import LinearRegression\n",
        "from sklearn.pipeline import make_pipeline\n",
        "from xgboost import XGBRegressor\n",
        "from sklearn.ensemble import RandomForestRegressor\n",
        "from sklearn.preprocessing import MinMaxScaler\n"
      ]
    },
    {
      "cell_type": "code",
      "execution_count": null,
      "outputs": [],
      "source": [
        "# Load Data\n",
        "tfidf = pd.read_csv('df_train_tfidf.csv')\n",
        "category_train = pd.read_csv('df_train_category.csv')\n",
        "tfidf_test = pd.read_csv('df_test_tfidf.csv')\n",
        "category_test = pd.read_csv('df_test_category.csv')\n",
        "w2v = pd.read_csv('df_train_w2v_150.csv')\n",
        "w2v_test = pd.read_csv('df_test_w2v_150.csv')\n",
        "bert = pd.read_json('train_small_embeddings.json')\n",
        "bert_test = pd.read_json('test_embeddings_new.json')"
      ],
      "metadata": {
        "pycharm": {
          "name": "#%%\n"
        },
        "id": "2MiGn7fEvjUR"
      }
    },
    {
      "cell_type": "code",
      "execution_count": null,
      "outputs": [],
      "source": [
        "# Special Treatment for Bert Data\n",
        "bert_final = bert.drop(0)\n",
        "bert_final.reset_index(inplace=True)\n",
        "del bert_final['index']"
      ],
      "metadata": {
        "pycharm": {
          "name": "#%%\n"
        },
        "id": "UJzov8yBvjUS"
      }
    },
    {
      "cell_type": "code",
      "execution_count": null,
      "outputs": [],
      "source": [
        "# Form Train and Test Data\n",
        "price_train = category_train.iloc[:,-1]\n",
        "price_test = category_test.iloc[:,-1]\n",
        "del category_train['price']\n",
        "del category_train['Unnamed: 0']\n",
        "del category_test['price']\n",
        "del category_test['Unnamed: 0']\n",
        "del w2v['Unnamed: 0']\n",
        "del w2v_test['Unnamed: 0']\n",
        "del tfidf['Unnamed: 0']\n",
        "del tfidf_test['Unnamed: 0']"
      ],
      "metadata": {
        "pycharm": {
          "name": "#%%\n"
        },
        "id": "dykcjIDrvjUS"
      }
    },
    {
      "cell_type": "code",
      "execution_count": null,
      "outputs": [],
      "source": [
        "w2v_train_total = pd.concat([category_train,w2v], axis=1)\n",
        "tfidf_train_total = pd.concat([category_train,tfidf], axis=1)\n",
        "bert_train_total = pd.concat([category_train,bert_final], axis=1)\n",
        "w2v_test_total = pd.concat([category_test,w2v_test], axis=1)\n",
        "tfidf_test_total = pd.concat([category_test,tfidf_test], axis=1)\n",
        "bert_test_total = pd.concat([category_test,bert_test], axis=1)"
      ],
      "metadata": {
        "pycharm": {
          "name": "#%%\n"
        },
        "id": "kvkuG2L9vjUT"
      }
    },
    {
      "cell_type": "code",
      "execution_count": null,
      "outputs": [],
      "source": [
        "super_train = pd.concat([category_train, w2v, tfidf, bert_final], axis=1)\n",
        "super_test = pd.concat([category_test, w2v_test, tfidf_test, bert_test], axis=1)"
      ],
      "metadata": {
        "pycharm": {
          "name": "#%%\n"
        },
        "id": "Dc93mj4zvjUU"
      }
    },
    {
      "cell_type": "code",
      "execution_count": null,
      "outputs": [],
      "source": [
        "# Normalized Price\n",
        "scaler = MinMaxScaler()\n",
        "modified_price_train = pd.Series.to_numpy(price_train)\n",
        "modified_price_train = modified_price_train.reshape(-1,1)\n",
        "normalized_price_train = scaler.fit_transform(modified_price_train)"
      ],
      "metadata": {
        "pycharm": {
          "name": "#%%\n"
        },
        "id": "PCJl6ZSKvjUU"
      }
    },
    {
      "cell_type": "code",
      "execution_count": null,
      "outputs": [
        {
          "name": "stderr",
          "output_type": "stream",
          "text": [
            "D:\\Users\\Scott\\anaconda3\\lib\\site-packages\\pandas\\core\\arraylike.py:364: RuntimeWarning: divide by zero encountered in log\n",
            "  result = getattr(ufunc, method)(*inputs, **kwargs)\n"
          ]
        }
      ],
      "source": [
        "# Log Price\n",
        "log_price_train = np.log(price_train)\n",
        "positive_min = min(i for i in log_price_train if i > 0)\n",
        "log_price_train[np.where(log_price_train < 0)[0]] = positive_min"
      ],
      "metadata": {
        "pycharm": {
          "name": "#%%\n"
        },
        "id": "5Ya2glL0vjUV",
        "outputId": "bb007bc8-b14b-4b4a-f655-527698cf351e"
      }
    },
    {
      "cell_type": "code",
      "execution_count": null,
      "outputs": [
        {
          "name": "stdout",
          "output_type": "stream",
          "text": [
            "MSLE (Linear + category):  0.4396545188610682\n",
            "MSLE (Linear + w2v):  0.5493669604531711\n",
            "MSLE (Linear + tfidf):  0.5076700925010251\n"
          ]
        },
        {
          "name": "stderr",
          "output_type": "stream",
          "text": [
            "D:\\Users\\Scott\\anaconda3\\lib\\site-packages\\sklearn\\utils\\validation.py:1673: FutureWarning: Feature names only support names that are all strings. Got feature names with dtypes: ['int', 'str']. An error will be raised in 1.2.\n",
            "  warnings.warn(\n",
            "D:\\Users\\Scott\\anaconda3\\lib\\site-packages\\sklearn\\utils\\validation.py:1673: FutureWarning: Feature names only support names that are all strings. Got feature names with dtypes: ['int', 'str']. An error will be raised in 1.2.\n",
            "  warnings.warn(\n"
          ]
        },
        {
          "name": "stdout",
          "output_type": "stream",
          "text": [
            "MSLE (Linear + bert):  0.5641962525805007\n"
          ]
        },
        {
          "name": "stderr",
          "output_type": "stream",
          "text": [
            "D:\\Users\\Scott\\anaconda3\\lib\\site-packages\\sklearn\\utils\\validation.py:1673: FutureWarning: Feature names only support names that are all strings. Got feature names with dtypes: ['int', 'str']. An error will be raised in 1.2.\n",
            "  warnings.warn(\n",
            "D:\\Users\\Scott\\anaconda3\\lib\\site-packages\\sklearn\\utils\\validation.py:1673: FutureWarning: Feature names only support names that are all strings. Got feature names with dtypes: ['int', 'str']. An error will be raised in 1.2.\n",
            "  warnings.warn(\n"
          ]
        },
        {
          "name": "stdout",
          "output_type": "stream",
          "text": [
            "MSLE (Linear + super):  0.7351868262013119\n"
          ]
        }
      ],
      "source": [
        "def Linear(train_data, test_data, data_type):\n",
        "    pipe = make_pipeline(LinearRegression())\n",
        "    pipe.fit(train_data, price_train)\n",
        "    predict = pipe.predict(test_data)\n",
        "    positive_min = min(i for i in predict if i > 0)\n",
        "    predict[np.where(predict < 0)[0]] = positive_min\n",
        "    print(\"MSLE (Linear + \" + data_type + \"): \", metrics.mean_squared_log_error(price_test, predict))\n",
        "\n",
        "\n",
        "Linear(category_train,category_test, 'category')\n",
        "Linear(w2v_train_total, w2v_test_total, 'w2v')\n",
        "Linear(tfidf_train_total, tfidf_test_total, 'tfidf')\n",
        "Linear(bert_train_total, bert_test_total, 'bert')\n",
        "Linear(super_train, super_test, 'super')"
      ],
      "metadata": {
        "pycharm": {
          "name": "#%%\n"
        },
        "id": "3t-ngXAnvjUW",
        "outputId": "f09135c8-7691-49c9-f610-04313b44d5ae"
      }
    },
    {
      "cell_type": "code",
      "execution_count": null,
      "outputs": [
        {
          "name": "stdout",
          "output_type": "stream",
          "text": [
            "MSLE (XGBoost + log Label + category): 0.3996333560367983\n",
            "MSLE (XGBoost + log Label + w2v): 0.42270942857848504\n",
            "MSLE (XGBoost + log Label + tfidf): 0.35645296532473925\n"
          ]
        },
        {
          "name": "stderr",
          "output_type": "stream",
          "text": [
            "D:\\Users\\Scott\\anaconda3\\lib\\site-packages\\sklearn\\utils\\validation.py:1673: FutureWarning: Feature names only support names that are all strings. Got feature names with dtypes: ['int', 'str']. An error will be raised in 1.2.\n",
            "  warnings.warn(\n",
            "D:\\Users\\Scott\\anaconda3\\lib\\site-packages\\sklearn\\utils\\validation.py:1673: FutureWarning: Feature names only support names that are all strings. Got feature names with dtypes: ['int', 'str']. An error will be raised in 1.2.\n",
            "  warnings.warn(\n"
          ]
        },
        {
          "name": "stdout",
          "output_type": "stream",
          "text": [
            "MSLE (XGBoost + log Label + bert): 0.34709181450499055\n"
          ]
        }
      ],
      "source": [
        "def Linear_log(train_data, test_data, data_type):\n",
        "    pipe = make_pipeline(LinearRegression())\n",
        "    pipe.fit(train_data, log_price_train)\n",
        "    predict = pipe.predict(test_data)\n",
        "    predict_return = np.exp(predict)\n",
        "    positive_min = min(i for i in predict_return if i > 0)\n",
        "    predict_return[np.where(predict_return < 0)[0]] = positive_min\n",
        "    print(\"MSLE (XGBoost + log Label + \" + data_type + \"):\", metrics.mean_squared_log_error(price_test, predict_return))\n",
        "\n",
        "Linear_log(category_train,category_test, 'category')\n",
        "Linear_log(w2v_train_total, w2v_test_total, 'w2v')\n",
        "Linear_log(tfidf_train_total, tfidf_test_total, 'tfidf')\n",
        "Linear_log(bert_train_total, bert_test_total, 'bert')"
      ],
      "metadata": {
        "pycharm": {
          "name": "#%%\n"
        },
        "id": "M91iEEtivjUW",
        "outputId": "640328f0-f4bb-4e24-f41a-a489f1459b64"
      }
    },
    {
      "cell_type": "code",
      "execution_count": null,
      "outputs": [
        {
          "name": "stdout",
          "output_type": "stream",
          "text": [
            "MSLE (XGBoost + category): 0.35638876531754404\n",
            "MSLE (XGBoost + w2v): 0.4483697674694636\n",
            "MSLE (XGBoost + tfidf): 0.35287508452320837\n",
            "MSLE (XGBoost + bert): 0.3737473963848344\n",
            "MSLE (XGBoost + super): 0.39602586545172186\n"
          ]
        }
      ],
      "source": [
        "def XG(train_data, test_data, data_type):\n",
        "    pipe = make_pipeline(XGBRegressor(random_state = 42))\n",
        "    pipe.fit(train_data, price_train)\n",
        "    predict = pipe.predict(test_data)\n",
        "    positive_min = min(i for i in predict if i > 0)\n",
        "    predict[np.where(predict < 0)[0]] = positive_min\n",
        "    print(\"MSLE (XGBoost + \" + data_type + \"):\", metrics.mean_squared_log_error(price_test, predict))\n",
        "\n",
        "\n",
        "\n",
        "XG(category_train,category_test, 'category')\n",
        "XG(w2v_train_total, w2v_test_total, 'w2v')\n",
        "XG(tfidf_train_total, tfidf_test_total, 'tfidf')\n",
        "XG(bert_train_total, bert_test_total, 'bert')\n",
        "XG(super_train, super_test, 'super')"
      ],
      "metadata": {
        "pycharm": {
          "name": "#%%\n"
        },
        "id": "Tr904Z6SvjUX",
        "outputId": "a1477d05-9b14-45f1-a9af-09996808a9d9"
      }
    },
    {
      "cell_type": "code",
      "execution_count": null,
      "outputs": [
        {
          "name": "stdout",
          "output_type": "stream",
          "text": [
            "MSLE (XGBoost + normalized Label + category): 0.3557016113412558\n",
            "MSLE (XGBoost + normalized Label + w2v): 0.4469841751373628\n",
            "MSLE (XGBoost + normalized Label + tfidf): 0.3536965761169831\n",
            "MSLE (XGBoost + normalized Label + bert): 0.3770917192168319\n",
            "MSLE (XGBoost + normalized Label + super): 0.41001295321384806\n",
            "MSLE (XGBoost + log Label + category): 0.3087778117991437\n",
            "MSLE (XGBoost + log Label + w2v): 0.36555334966865266\n",
            "MSLE (XGBoost + log Label + tfidf): 0.29617681011086044\n",
            "MSLE (XGBoost + log Label + bert): 0.30676940634788835\n",
            "MSLE (XGBoost + log Label + super): 0.31098740549209364\n"
          ]
        }
      ],
      "source": [
        "def XG_Normalized(train_data, test_data, data_type):\n",
        "    pipe = make_pipeline(XGBRegressor(random_state = 42))\n",
        "    pipe.fit(train_data, normalized_price_train)\n",
        "    predict = pipe.predict(test_data)\n",
        "    predict = predict.reshape(-1,1)\n",
        "    predict_return = scaler.inverse_transform(predict)\n",
        "    positive_min = min(i for i in predict_return if i > 0)\n",
        "    predict_return[np.where(predict_return < 0)[0]] = positive_min\n",
        "    print(\"MSLE (XGBoost + normalized Label + \" + data_type + \"):\", metrics.mean_squared_log_error(price_test, predict_return))\n",
        "\n",
        "XG_Normalized(category_train,category_test, 'category')\n",
        "XG_Normalized(w2v_train_total, w2v_test_total, 'w2v')\n",
        "XG_Normalized(tfidf_train_total, tfidf_test_total, 'tfidf')\n",
        "XG_Normalized(bert_train_total, bert_test_total, 'bert')\n",
        "XG_Normalized(super_train, super_test, 'super')\n",
        "\n",
        "def XG_log(train_data, test_data, data_type):\n",
        "    pipe = make_pipeline(XGBRegressor(random_state = 42))\n",
        "    pipe.fit(train_data, log_price_train)\n",
        "    predict = pipe.predict(test_data)\n",
        "    predict_return = np.exp(predict)\n",
        "    positive_min = min(i for i in predict_return if i > 0)\n",
        "    predict_return[np.where(predict_return < 0)[0]] = positive_min\n",
        "    print(\"MSLE (XGBoost + log Label + \" + data_type + \"):\", metrics.mean_squared_log_error(price_test, predict_return))\n",
        "\n",
        "XG_log(category_train,category_test, 'category')\n",
        "XG_log(w2v_train_total, w2v_test_total, 'w2v')\n",
        "XG_log(tfidf_train_total, tfidf_test_total, 'tfidf')\n",
        "XG_log(bert_train_total, bert_test_total, 'bert')\n",
        "XG_log(super_train, super_test, 'super')\n"
      ],
      "metadata": {
        "pycharm": {
          "name": "#%%\n"
        },
        "id": "dbwuL5IVvjUY",
        "outputId": "2944ca7b-a1fe-43c0-89bc-2a4a5d8ee098"
      }
    },
    {
      "cell_type": "code",
      "execution_count": null,
      "outputs": [
        {
          "name": "stdout",
          "output_type": "stream",
          "text": [
            "MSLE (Random Forest + category):  0.4136492437668892\n",
            "MSLE (Random Forest + w2v):  0.41510469578984405\n",
            "MSLE (Random Forest + tfidf):  0.41615259723602505\n"
          ]
        },
        {
          "name": "stderr",
          "output_type": "stream",
          "text": [
            "D:\\Users\\Scott\\anaconda3\\lib\\site-packages\\sklearn\\utils\\validation.py:1673: FutureWarning: Feature names only support names that are all strings. Got feature names with dtypes: ['int', 'str']. An error will be raised in 1.2.\n",
            "  warnings.warn(\n",
            "D:\\Users\\Scott\\anaconda3\\lib\\site-packages\\sklearn\\utils\\validation.py:1673: FutureWarning: Feature names only support names that are all strings. Got feature names with dtypes: ['int', 'str']. An error will be raised in 1.2.\n",
            "  warnings.warn(\n"
          ]
        },
        {
          "name": "stdout",
          "output_type": "stream",
          "text": [
            "MSLE (Random Forest + bert):  0.41623465349406996\n"
          ]
        },
        {
          "name": "stderr",
          "output_type": "stream",
          "text": [
            "D:\\Users\\Scott\\anaconda3\\lib\\site-packages\\sklearn\\utils\\validation.py:1673: FutureWarning: Feature names only support names that are all strings. Got feature names with dtypes: ['int', 'str']. An error will be raised in 1.2.\n",
            "  warnings.warn(\n",
            "D:\\Users\\Scott\\anaconda3\\lib\\site-packages\\sklearn\\utils\\validation.py:1673: FutureWarning: Feature names only support names that are all strings. Got feature names with dtypes: ['int', 'str']. An error will be raised in 1.2.\n",
            "  warnings.warn(\n"
          ]
        },
        {
          "name": "stdout",
          "output_type": "stream",
          "text": [
            "MSLE (Random Forest + super):  0.41860579041382767\n"
          ]
        }
      ],
      "source": [
        "def RandomForest(train_data, test_data, data_type):\n",
        "    pipe = make_pipeline(RandomForestRegressor(random_state = 42, max_depth=5, n_jobs = -1))\n",
        "    pipe.fit(train_data, price_train)\n",
        "    predict = pipe.predict(test_data)\n",
        "    positive_min = min(i for i in predict if i > 0)\n",
        "    predict[np.where(predict < 0)[0]] = positive_min\n",
        "    print(\"MSLE (Random Forest + \" + data_type + \"): \", metrics.mean_squared_log_error(price_test, predict))\n",
        "\n",
        "RandomForest(category_train,category_test, 'category')\n",
        "RandomForest(w2v_train_total, w2v_test_total, 'w2v')\n",
        "RandomForest(tfidf_train_total, tfidf_test_total, 'tfidf')\n",
        "RandomForest(bert_train_total, bert_test_total, 'bert')\n",
        "RandomForest(super_train, super_test, 'super')"
      ],
      "metadata": {
        "pycharm": {
          "name": "#%%\n"
        },
        "id": "prw_e8wfvjUY",
        "outputId": "d8a57960-deb3-4d35-f83a-85d3782b07bf"
      }
    },
    {
      "cell_type": "code",
      "execution_count": null,
      "outputs": [
        {
          "name": "stderr",
          "output_type": "stream",
          "text": [
            "D:\\Users\\Scott\\anaconda3\\lib\\site-packages\\sklearn\\pipeline.py:394: DataConversionWarning: A column-vector y was passed when a 1d array was expected. Please change the shape of y to (n_samples,), for example using ravel().\n",
            "  self._final_estimator.fit(Xt, y, **fit_params_last_step)\n"
          ]
        },
        {
          "name": "stdout",
          "output_type": "stream",
          "text": [
            "MSLE (Random Forest + normalized Label + category):  0.41365021082300985\n"
          ]
        },
        {
          "name": "stderr",
          "output_type": "stream",
          "text": [
            "D:\\Users\\Scott\\anaconda3\\lib\\site-packages\\sklearn\\pipeline.py:394: DataConversionWarning: A column-vector y was passed when a 1d array was expected. Please change the shape of y to (n_samples,), for example using ravel().\n",
            "  self._final_estimator.fit(Xt, y, **fit_params_last_step)\n"
          ]
        },
        {
          "name": "stdout",
          "output_type": "stream",
          "text": [
            "MSLE (Random Forest + normalized Label + w2v):  0.4151313378661671\n"
          ]
        },
        {
          "name": "stderr",
          "output_type": "stream",
          "text": [
            "D:\\Users\\Scott\\anaconda3\\lib\\site-packages\\sklearn\\pipeline.py:394: DataConversionWarning: A column-vector y was passed when a 1d array was expected. Please change the shape of y to (n_samples,), for example using ravel().\n",
            "  self._final_estimator.fit(Xt, y, **fit_params_last_step)\n"
          ]
        },
        {
          "name": "stdout",
          "output_type": "stream",
          "text": [
            "MSLE (Random Forest + normalized Label + tfidf):  0.41614798016055854\n"
          ]
        },
        {
          "name": "stderr",
          "output_type": "stream",
          "text": [
            "D:\\Users\\Scott\\anaconda3\\lib\\site-packages\\sklearn\\utils\\validation.py:1673: FutureWarning: Feature names only support names that are all strings. Got feature names with dtypes: ['int', 'str']. An error will be raised in 1.2.\n",
            "  warnings.warn(\n",
            "D:\\Users\\Scott\\anaconda3\\lib\\site-packages\\sklearn\\pipeline.py:394: DataConversionWarning: A column-vector y was passed when a 1d array was expected. Please change the shape of y to (n_samples,), for example using ravel().\n",
            "  self._final_estimator.fit(Xt, y, **fit_params_last_step)\n",
            "D:\\Users\\Scott\\anaconda3\\lib\\site-packages\\sklearn\\utils\\validation.py:1673: FutureWarning: Feature names only support names that are all strings. Got feature names with dtypes: ['int', 'str']. An error will be raised in 1.2.\n",
            "  warnings.warn(\n"
          ]
        },
        {
          "name": "stdout",
          "output_type": "stream",
          "text": [
            "MSLE (Random Forest + normalized Label + bert):  0.41627010865773556\n"
          ]
        },
        {
          "name": "stderr",
          "output_type": "stream",
          "text": [
            "D:\\Users\\Scott\\anaconda3\\lib\\site-packages\\sklearn\\utils\\validation.py:1673: FutureWarning: Feature names only support names that are all strings. Got feature names with dtypes: ['int', 'str']. An error will be raised in 1.2.\n",
            "  warnings.warn(\n",
            "D:\\Users\\Scott\\anaconda3\\lib\\site-packages\\sklearn\\pipeline.py:394: DataConversionWarning: A column-vector y was passed when a 1d array was expected. Please change the shape of y to (n_samples,), for example using ravel().\n",
            "  self._final_estimator.fit(Xt, y, **fit_params_last_step)\n",
            "D:\\Users\\Scott\\anaconda3\\lib\\site-packages\\sklearn\\utils\\validation.py:1673: FutureWarning: Feature names only support names that are all strings. Got feature names with dtypes: ['int', 'str']. An error will be raised in 1.2.\n",
            "  warnings.warn(\n"
          ]
        },
        {
          "name": "stdout",
          "output_type": "stream",
          "text": [
            "MSLE (Random Forest + normalized Label + super):  0.41857295757882973\n",
            "MSLE (Random Forest + log Label + category): 0.35572829207366435\n",
            "MSLE (Random Forest + log Label + w2v): 0.35613996408353543\n",
            "MSLE (Random Forest + log Label + tfidf): 0.35511534596717326\n"
          ]
        },
        {
          "name": "stderr",
          "output_type": "stream",
          "text": [
            "D:\\Users\\Scott\\anaconda3\\lib\\site-packages\\sklearn\\utils\\validation.py:1673: FutureWarning: Feature names only support names that are all strings. Got feature names with dtypes: ['int', 'str']. An error will be raised in 1.2.\n",
            "  warnings.warn(\n",
            "D:\\Users\\Scott\\anaconda3\\lib\\site-packages\\sklearn\\utils\\validation.py:1673: FutureWarning: Feature names only support names that are all strings. Got feature names with dtypes: ['int', 'str']. An error will be raised in 1.2.\n",
            "  warnings.warn(\n"
          ]
        },
        {
          "name": "stdout",
          "output_type": "stream",
          "text": [
            "MSLE (Random Forest + log Label + bert): 0.35560370806980995\n"
          ]
        },
        {
          "name": "stderr",
          "output_type": "stream",
          "text": [
            "D:\\Users\\Scott\\anaconda3\\lib\\site-packages\\sklearn\\utils\\validation.py:1673: FutureWarning: Feature names only support names that are all strings. Got feature names with dtypes: ['int', 'str']. An error will be raised in 1.2.\n",
            "  warnings.warn(\n",
            "D:\\Users\\Scott\\anaconda3\\lib\\site-packages\\sklearn\\utils\\validation.py:1673: FutureWarning: Feature names only support names that are all strings. Got feature names with dtypes: ['int', 'str']. An error will be raised in 1.2.\n",
            "  warnings.warn(\n"
          ]
        },
        {
          "name": "stdout",
          "output_type": "stream",
          "text": [
            "MSLE (Random Forest + log Label + super): 0.3551755422429357\n"
          ]
        }
      ],
      "source": [
        "def RandomForest_Normalized(train_data, test_data, data_type):\n",
        "    pipe = make_pipeline(RandomForestRegressor(random_state = 42, max_depth=5, n_jobs = -1))\n",
        "    pipe.fit(train_data, normalized_price_train)\n",
        "    predict = pipe.predict(test_data)\n",
        "    predict = predict.reshape(-1,1)\n",
        "    predict_return = scaler.inverse_transform(predict)\n",
        "    positive_min = min(i for i in predict_return if i > 0)\n",
        "    predict_return[np.where(predict_return < 0)[0]] = positive_min\n",
        "    print(\"MSLE (Random Forest + normalized Label + \" + data_type + \"): \", metrics.mean_squared_log_error(price_test, predict_return))\n",
        "\n",
        "RandomForest_Normalized(category_train,category_test, 'category')\n",
        "RandomForest_Normalized(w2v_train_total, w2v_test_total, 'w2v')\n",
        "RandomForest_Normalized(tfidf_train_total, tfidf_test_total, 'tfidf')\n",
        "RandomForest_Normalized(bert_train_total, bert_test_total, 'bert')\n",
        "RandomForest_Normalized(super_train, super_test, 'super')\n",
        "\n",
        "def RandomForest_log(train_data, test_data, data_type):\n",
        "    pipe = make_pipeline(RandomForestRegressor(random_state = 42,  max_depth=5, n_jobs = -1))\n",
        "    pipe.fit(train_data, log_price_train)\n",
        "    predict = pipe.predict(test_data)\n",
        "    predict_return = np.exp(predict)\n",
        "    positive_min = min(i for i in predict_return if i > 0)\n",
        "    predict_return[np.where(predict_return < 0)[0]] = positive_min\n",
        "    print(\"MSLE (Random Forest + log Label + \" + data_type + \"):\", metrics.mean_squared_log_error(price_test, predict_return))\n",
        "\n",
        "RandomForest_log(category_train,category_test, 'category')\n",
        "RandomForest_log(w2v_train_total, w2v_test_total, 'w2v')\n",
        "RandomForest_log(tfidf_train_total, tfidf_test_total, 'tfidf')\n",
        "RandomForest_log(bert_train_total, bert_test_total, 'bert')\n",
        "RandomForest_log(super_train, super_test, 'super')"
      ],
      "metadata": {
        "pycharm": {
          "name": "#%%\n"
        },
        "id": "3o5A8VxovjUZ",
        "outputId": "d7fc711d-c714-4e7d-8b94-c22df8416ad3"
      }
    }
  ],
  "metadata": {
    "kernelspec": {
      "name": "pycharm-569053d1",
      "language": "python",
      "display_name": "PyCharm (hw2)"
    },
    "language_info": {
      "codemirror_mode": {
        "name": "ipython",
        "version": 2
      },
      "file_extension": ".py",
      "mimetype": "text/x-python",
      "name": "python",
      "nbconvert_exporter": "python",
      "pygments_lexer": "ipython2",
      "version": "2.7.6"
    },
    "colab": {
      "name": "Traditional ML models.ipynb",
      "provenance": []
    }
  },
  "nbformat": 4,
  "nbformat_minor": 0
}