{
  "cells": [
    {
      "cell_type": "code",
      "execution_count": 1,
      "metadata": {
        "colab": {
          "base_uri": "https://localhost:8080/"
        },
        "id": "yOQWPTOBeRF2",
        "outputId": "42f536a5-8f58-452b-a681-d82d897c8f8f"
      },
      "outputs": [
        {
          "output_type": "stream",
          "name": "stdout",
          "text": [
            "Mounted at /content/gdrive\n"
          ]
        }
      ],
      "source": [
        "from google.colab import drive\n",
        "drive.mount(\"/content/gdrive\")"
      ]
    },
    {
      "cell_type": "code",
      "execution_count": 2,
      "metadata": {
        "id": "L6YNQ4I2g-TI"
      },
      "outputs": [],
      "source": [
        "import sys\n",
        "sys.path.append('/content/gdrive/MyDrive/aml_fp/')"
      ]
    },
    {
      "cell_type": "code",
      "execution_count": 3,
      "metadata": {
        "id": "jlSXwWdahbj4"
      },
      "outputs": [],
      "source": [
        "import json\n",
        "import csv\n",
        "import pandas as pd\n",
        "import sklearn\n",
        "import numpy as np\n",
        "import tensorflow as tf\n",
        "import pandas\n",
        "import keras"
      ]
    },
    {
      "cell_type": "code",
      "execution_count": 9,
      "metadata": {
        "id": "Inos5Es6nptp"
      },
      "outputs": [],
      "source": [
        "\n",
        "# Loading tfidf + categorical features\n",
        "y_train=pd.read_csv(\"/content/gdrive/MyDrive/aml_fp/y_train_150_w2v\")\n",
        "y_test=pd.read_csv(\"/content/gdrive/MyDrive/aml_fp/y_test_150_w2v\")\n",
        "\n",
        "# Normal price \n",
        "y_train=y_train.iloc[:,1:]\n",
        "y_test=y_test.iloc[:,1:]\n",
        "\n",
        "# Log scaled price \n",
        "y_train_log=np.log(y_train+1)\n",
        "y_test_log=np.log(y_test+1)\n",
        "\n",
        "\n",
        "\n"
      ]
    },
    {
      "cell_type": "code",
      "source": [
        "#for baseline prediction\n",
        "from sklearn.metrics import mean_squared_log_error\n",
        "\n",
        "y_train_mean = y_train.mean()\n",
        "y_pred=[]\n",
        "for i in range(y_test.shape[0]):\n",
        "  y_pred.append(y_train_mean)\n",
        "baseline_result=mean_squared_log_error(y_test, y_pred)\n",
        "\n",
        "print(baseline_result)"
      ],
      "metadata": {
        "colab": {
          "base_uri": "https://localhost:8080/"
        },
        "id": "Hqduc-S4Q7pp",
        "outputId": "ad4b9895-22a4-47ec-8172-efbf57c6a08d"
      },
      "execution_count": 10,
      "outputs": [
        {
          "output_type": "stream",
          "name": "stdout",
          "text": [
            "0.6806977620253564\n"
          ]
        }
      ]
    },
    {
      "cell_type": "code",
      "source": [
        "#for baseline prediction\n",
        "from sklearn.metrics import mean_squared_error\n",
        "\n",
        "y_train_mean = y_train_log.mean()\n",
        "y_pred=[]\n",
        "for i in range(y_test.shape[0]):\n",
        "  y_pred.append(y_train_mean)\n",
        "baseline_result=mean_squared_error(y_test_log, y_pred)\n",
        "\n",
        "print(baseline_result)"
      ],
      "metadata": {
        "colab": {
          "base_uri": "https://localhost:8080/"
        },
        "id": "qlV3BIWnQ_UT",
        "outputId": "1dda3a6f-b8c0-4c54-b5a4-7e2e5f9308d0"
      },
      "execution_count": 11,
      "outputs": [
        {
          "output_type": "stream",
          "name": "stdout",
          "text": [
            "0.5640172327711513\n"
          ]
        }
      ]
    },
    {
      "cell_type": "code",
      "source": [
        ""
      ],
      "metadata": {
        "id": "qOgpe9VnRovw"
      },
      "execution_count": null,
      "outputs": []
    }
  ],
  "metadata": {
    "colab": {
      "name": "Baseline",
      "provenance": [],
      "machine_shape": "hm",
      "collapsed_sections": []
    },
    "kernelspec": {
      "display_name": "Python 3",
      "name": "python3"
    },
    "language_info": {
      "name": "python"
    }
  },
  "nbformat": 4,
  "nbformat_minor": 0
}